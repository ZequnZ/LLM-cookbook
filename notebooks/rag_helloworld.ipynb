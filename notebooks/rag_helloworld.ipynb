{
 "cells": [
  {
   "cell_type": "markdown",
   "id": "182385f4-6251-4ad3-87bf-030debf00801",
   "metadata": {},
   "source": [
    "# RAG - helloworld implementation"
   ]
  },
  {
   "cell_type": "code",
   "execution_count": 1,
   "id": "1282a223-8cc0-4da4-8032-da416abde7b7",
   "metadata": {},
   "outputs": [],
   "source": [
    "import chromadb\n",
    "import pandas as pd\n",
    "from chromadb.utils import embedding_functions\n",
    "from langchain_chroma import Chroma\n",
    "from langchain_community.document_loaders.csv_loader import CSVLoader\n",
    "from langchain_core.embeddings import DeterministicFakeEmbedding\n",
    "\n",
    "from llm_cookbook.utils.get_client import openai_client"
   ]
  },
  {
   "cell_type": "code",
   "execution_count": 2,
   "id": "007c4408-a03c-48ec-b6fe-79f6caf1c3c8",
   "metadata": {},
   "outputs": [],
   "source": [
    "movies_data = [\n",
    "    {\n",
    "        \"name\": \"The Shawshank Redemption\",\n",
    "        \"description\": \"A wrongfully convicted banker endures life in Shawshank State Penitentiary while maintaining hope and forming profound friendships. The film explores themes of institutionalization and redemption through its 20-year narrative span.\",\n",
    "        \"country\": \"United States\",\n",
    "        \"year\": 1994,\n",
    "    },\n",
    "    {\n",
    "        \"name\": \"Inception\",\n",
    "        \"description\": \"A skilled thief enters people's dreams to steal secrets, but is tasked with planting an idea in a CEO's subconscious. The film's layered narrative explores reality perception through innovative visual storytelling.\",\n",
    "        \"country\": \"United States\",\n",
    "        \"year\": 2010,\n",
    "    },\n",
    "    {\n",
    "        \"name\": \"Parasite\",\n",
    "        \"description\": \"A poor Korean family strategically infiltrates a wealthy household, exposing class divisions through dark comedy and thriller elements. The film became the first non-English language Best Picture Oscar winner.\",\n",
    "        \"country\": \"South Korea\",\n",
    "        \"year\": 2019,\n",
    "    },\n",
    "    {\n",
    "        \"name\": \"Amélie\",\n",
    "        \"description\": \"A whimsical Parisian waitress embarks on a mission to improve others' lives while navigating her own isolation. The film presents a stylized vision of Montmartre with magical realism elements.\",\n",
    "        \"country\": \"France\",\n",
    "        \"year\": 2001,\n",
    "    },\n",
    "    {\n",
    "        \"name\": \"Spirited Away\",\n",
    "        \"description\": \"A young girl enters a spirit world bathhouse to rescue her transformed parents, encountering mystical creatures and personal growth. This Studio Ghibli masterpiece won the Academy Award for Best Animated Feature.\",\n",
    "        \"country\": \"Japan\",\n",
    "        \"year\": 2001,\n",
    "    },\n",
    "    {\n",
    "        \"name\": \"The Godfather\",\n",
    "        \"description\": \"A crime epic chronicling the Corleone mafia family's power struggles and the transformation of reluctant heir Michael Corleone. Considered one of cinema's greatest achievements in storytelling.\",\n",
    "        \"country\": \"United States\",\n",
    "        \"year\": 1972,\n",
    "    },\n",
    "    {\n",
    "        \"name\": \"Pulp Fiction\",\n",
    "        \"description\": \"Interconnected crime stories explore Los Angeles' criminal underworld through non-linear storytelling and iconic dialogue. The film revitalized John Travolta's career and influenced 1990s cinema.\",\n",
    "        \"country\": \"United States\",\n",
    "        \"year\": 1994,\n",
    "    },\n",
    "    {\n",
    "        \"name\": \"Schindler's List\",\n",
    "        \"description\": \"A German industrialist saves Jewish lives during the Holocaust by employing them in his factories. The black-and-white historical drama won seven Academy Awards including Best Picture.\",\n",
    "        \"country\": \"United States\",\n",
    "        \"year\": 1993,\n",
    "    },\n",
    "    {\n",
    "        \"name\": \"The Dark Knight\",\n",
    "        \"description\": \"Batman confronts the anarchic Joker in a battle for Gotham City's soul, exploring themes of chaos versus order. Heath Ledger's performance earned a posthumous Academy Award.\",\n",
    "        \"country\": \"United States\",\n",
    "        \"year\": 2008,\n",
    "    },\n",
    "    {\n",
    "        \"name\": \"Life Is Beautiful\",\n",
    "        \"description\": \"A Jewish father uses imagination to protect his son from the horrors of a Nazi concentration camp. The Italian tragicomedy won three Academy Awards including Best Foreign Language Film.\",\n",
    "        \"country\": \"Italy\",\n",
    "        \"year\": 1997,\n",
    "    },\n",
    "]\n",
    "\n",
    "df = pd.DataFrame(movies_data)\n",
    "df.to_csv(\"data/toy.csv\", index=False)"
   ]
  },
  {
   "cell_type": "code",
   "execution_count": 4,
   "id": "e0f1d504-0e28-4309-bdd7-65866a866c27",
   "metadata": {},
   "outputs": [],
   "source": [
    "client.delete_collection(name=\"movie_db\")"
   ]
  },
  {
   "cell_type": "code",
   "execution_count": 5,
   "id": "88e2f5c2-b8be-4df3-b9f7-1382b98c6b0e",
   "metadata": {},
   "outputs": [],
   "source": [
    "# Initialize Chroma client with batch optimizations\n",
    "client = chromadb.PersistentClient()\n",
    "collection = client.create_collection(\n",
    "    name=\"movie_db\",\n",
    "    embedding_function=embedding_functions.DefaultEmbeddingFunction(),\n",
    ")\n",
    "\n",
    "# Prepare batch data\n",
    "documents = []\n",
    "metadatas = []\n",
    "ids = []\n",
    "\n",
    "for _, row in df.iterrows():\n",
    "    # 1. Create document string\n",
    "    documents.append(f\"{row['name']}: {row['description']}\")\n",
    "\n",
    "    # 2. Prepare metadata\n",
    "    metadatas.append(\n",
    "        {\n",
    "            \"country\": row[\"country\"],\n",
    "            \"year\": (row[\"year\"]),  # Chroma requires string metadata values\n",
    "        }\n",
    "    )\n",
    "\n",
    "    # 3. Generate unique ID (hash of name + year)\n",
    "    ids.append(f\"{hash(row['name'] + str(row['year']))}\")\n",
    "\n",
    "# Add to collection\n",
    "collection.add(documents=documents, metadatas=metadatas, ids=ids)"
   ]
  },
  {
   "cell_type": "code",
   "execution_count": 7,
   "id": "41eb1398-b9f5-40be-b25a-8aab076c1971",
   "metadata": {},
   "outputs": [],
   "source": [
    "results = collection.query(\n",
    "    query_texts=[\"Artificial intelligence in film\"],\n",
    "    n_results=3,\n",
    "    where={\"year\": {\"$gte\": 2000}},  # Filter movies from 2000 onwards\n",
    ")"
   ]
  },
  {
   "cell_type": "code",
   "execution_count": 32,
   "id": "9ee07906-7702-44af-86de-bba9862ef176",
   "metadata": {},
   "outputs": [
    {
     "name": "stdout",
     "output_type": "stream",
     "text": [
      "I recommend \"The Dark Knight,\" where Batman battles the Joker in an intense fight for Gotham City's soul. Heath Ledger's iconic performance as the Joker earned him a posthumous Academy Award. The film is widely regarded as one of the best superhero movies ever made.\n"
     ]
    }
   ],
   "source": [
    "query_texts = \"Any superhero movie you can recommend?\"\n",
    "\n",
    "query_result = collection.query(\n",
    "    query_texts=query_texts,\n",
    "    n_results=3,\n",
    ")[\"documents\"][0]\n",
    "\n",
    "\n",
    "system_prompt = f\"\"\"\n",
    "You are an assistant for question-answering tasks.\n",
    "Use the following pieces of retrieved context to answer the question. \n",
    "If you don't know the answer, say that you don't know. \n",
    "Use three sentences maximum and keep the answer concise.\n",
    "\n",
    "{query_result}\n",
    "\"\"\"\n",
    "\n",
    "message_stack = [\n",
    "    {\"role\": \"system\", \"content\": system_prompt},\n",
    "    {\"role\": \"user\", \"content\": query_texts},\n",
    "]\n",
    "\n",
    "response = openai_client.chat.completions.create(messages=message_stack, model=\"gpt-4o\")\n",
    "print(response.choices[0].message.content)"
   ]
  },
  {
   "cell_type": "code",
   "execution_count": 33,
   "id": "3bdd4b2d-d5ed-4da8-821d-6007a03fecc5",
   "metadata": {},
   "outputs": [
    {
     "name": "stdout",
     "output_type": "stream",
     "text": [
      "\n",
      "You are an assistant for question-answering tasks.\n",
      "Use the following pieces of retrieved context to answer the question. \n",
      "If you don't know the answer, say that you don't know. \n",
      "Use three sentences maximum and keep the answer concise.\n",
      "\n",
      "[\"The Dark Knight: Batman confronts the anarchic Joker in a battle for Gotham City's soul, exploring themes of chaos versus order. Heath Ledger's performance earned a posthumous Academy Award.\", \"Schindler's List: A German industrialist saves Jewish lives during the Holocaust by employing them in his factories. The black-and-white historical drama won seven Academy Awards including Best Picture.\", \"Pulp Fiction: Interconnected crime stories explore Los Angeles' criminal underworld through non-linear storytelling and iconic dialogue. The film revitalized John Travolta's career and influenced 1990s cinema.\"]\n",
      "\n"
     ]
    }
   ],
   "source": [
    "print(system_prompt)"
   ]
  },
  {
   "cell_type": "markdown",
   "id": "987e615d-4056-4dbb-8655-c7abc1ea215a",
   "metadata": {},
   "source": [
    "## Langchain implementation"
   ]
  },
  {
   "cell_type": "code",
   "execution_count": 41,
   "id": "8bda25b4-c730-4f78-b6b6-c2555bdebfca",
   "metadata": {},
   "outputs": [],
   "source": [
    "loader = CSVLoader(file_path=\"/data/toy.csv\")\n",
    "docs = loader.load_and_split()\n",
    "\n",
    "embeddings = DeterministicFakeEmbedding(size=4096)\n",
    "vector_store = Chroma(\n",
    "    collection_name=\"example_collection\",\n",
    "    embedding_function=embeddings,\n",
    ")"
   ]
  },
  {
   "cell_type": "code",
   "execution_count": 42,
   "id": "57d0132c-5604-45f6-bc08-6164453e6873",
   "metadata": {},
   "outputs": [
    {
     "data": {
      "text/plain": [
       "['-1406321105825303933',\n",
       " '-3146088451348060405',\n",
       " '5741577411061685671',\n",
       " '-4409964805962562201',\n",
       " '-67135265337924727',\n",
       " '-5759269916624104679',\n",
       " '-1265879410418405999',\n",
       " '7269556372820919186',\n",
       " '2101915283243149551',\n",
       " '-7052679438491250289']"
      ]
     },
     "execution_count": 42,
     "metadata": {},
     "output_type": "execute_result"
    }
   ],
   "source": [
    "# Add to collection\n",
    "vector_store.add_documents(documents=docs, ids=ids)"
   ]
  },
  {
   "cell_type": "code",
   "execution_count": 56,
   "id": "11ef64e6-646d-4e46-acbb-c8427fc432b3",
   "metadata": {},
   "outputs": [
    {
     "name": "stdout",
     "output_type": "stream",
     "text": [
      "I don't have information on superhero movies in the provided context, so I can't recommend one.\n"
     ]
    }
   ],
   "source": [
    "query_texts = \"Any superhero movie you can recommend?\"\n",
    "\n",
    "query_result = vector_store.similarity_search(\n",
    "    query_texts,\n",
    "    k=3,\n",
    ")\n",
    "\n",
    "context = (\"\\n\\n\").join([res.page_content for res in results])\n",
    "\n",
    "system_prompt = f\"\"\"\n",
    "You are an assistant for question-answering tasks.\n",
    "Use the following pieces of retrieved context to answer the question. \n",
    "If you don't know the answer, say that you don't know. \n",
    "Use three sentences maximum and keep the answer concise.\n",
    "\n",
    "{context}\n",
    "\"\"\"\n",
    "\n",
    "message_stack = [\n",
    "    {\"role\": \"system\", \"content\": system_prompt},\n",
    "    {\"role\": \"user\", \"content\": query_texts},\n",
    "]\n",
    "\n",
    "response = openai_client.chat.completions.create(messages=message_stack, model=\"gpt-4o\")\n",
    "print(response.choices[0].message.content)"
   ]
  },
  {
   "cell_type": "code",
   "execution_count": 57,
   "id": "4b6763ca-7043-4254-9650-578d37111631",
   "metadata": {},
   "outputs": [
    {
     "name": "stdout",
     "output_type": "stream",
     "text": [
      "\n",
      "You are an assistant for question-answering tasks.\n",
      "Use the following pieces of retrieved context to answer the question. \n",
      "If you don't know the answer, say that you don't know. \n",
      "Use three sentences maximum and keep the answer concise.\n",
      "\n",
      "name: Spirited Away\n",
      "description: A young girl enters a spirit world bathhouse to rescue her transformed parents, encountering mystical creatures and personal growth. This Studio Ghibli masterpiece won the Academy Award for Best Animated Feature.\n",
      "country: Japan\n",
      "year: 2001\n",
      "\n",
      "name: Schindler's List\n",
      "description: A German industrialist saves Jewish lives during the Holocaust by employing them in his factories. The black-and-white historical drama won seven Academy Awards including Best Picture.\n",
      "country: United States\n",
      "year: 1993\n",
      "\n",
      "name: Parasite\n",
      "description: A poor Korean family strategically infiltrates a wealthy household, exposing class divisions through dark comedy and thriller elements. The film became the first non-English language Best Picture Oscar winner.\n",
      "country: South Korea\n",
      "year: 2019\n",
      "\n"
     ]
    }
   ],
   "source": [
    "print(system_prompt)"
   ]
  },
  {
   "cell_type": "code",
   "execution_count": 50,
   "id": "95597d91-9933-42d8-819c-6459c18750fe",
   "metadata": {},
   "outputs": [],
   "source": [
    "results = vector_store.similarity_search(\n",
    "    \"batman\",\n",
    "    k=3,\n",
    ")"
   ]
  },
  {
   "cell_type": "code",
   "execution_count": 55,
   "id": "6a6138af-0375-4d89-ae2b-97b3e99243fa",
   "metadata": {},
   "outputs": [
    {
     "name": "stdout",
     "output_type": "stream",
     "text": [
      "name: Spirited Away\n",
      "description: A young girl enters a spirit world bathhouse to rescue her transformed parents, encountering mystical creatures and personal growth. This Studio Ghibli masterpiece won the Academy Award for Best Animated Feature.\n",
      "country: Japan\n",
      "year: 2001\n",
      "\n",
      "name: Schindler's List\n",
      "description: A German industrialist saves Jewish lives during the Holocaust by employing them in his factories. The black-and-white historical drama won seven Academy Awards including Best Picture.\n",
      "country: United States\n",
      "year: 1993\n",
      "\n",
      "name: Parasite\n",
      "description: A poor Korean family strategically infiltrates a wealthy household, exposing class divisions through dark comedy and thriller elements. The film became the first non-English language Best Picture Oscar winner.\n",
      "country: South Korea\n",
      "year: 2019\n"
     ]
    }
   ],
   "source": [
    "print((\"\\n\\n\").join([res.page_content for res in results]))"
   ]
  }
 ],
 "metadata": {
  "kernelspec": {
   "display_name": "Python 3 (ipykernel)",
   "language": "python",
   "name": "python3"
  },
  "language_info": {
   "codemirror_mode": {
    "name": "ipython",
    "version": 3
   },
   "file_extension": ".py",
   "mimetype": "text/x-python",
   "name": "python",
   "nbconvert_exporter": "python",
   "pygments_lexer": "ipython3",
   "version": "3.12.9"
  }
 },
 "nbformat": 4,
 "nbformat_minor": 5
}

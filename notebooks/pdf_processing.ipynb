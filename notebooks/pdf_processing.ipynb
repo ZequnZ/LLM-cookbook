{
 "cells": [
  {
   "cell_type": "markdown",
   "id": "89d182c2-2cfb-4777-a397-f64b8cf41f05",
   "metadata": {},
   "source": [
    "# PDF processing using langchain and llama-index"
   ]
  },
  {
   "cell_type": "code",
   "execution_count": 2,
   "id": "e64253e6-4b5b-4a84-b033-7615829f7d1a",
   "metadata": {},
   "outputs": [],
   "source": [
    "import os\n",
    "\n",
    "from dotenv import load_dotenv\n",
    "from langchain_community.document_loaders import PyPDFLoader\n",
    "from langchain_community.vectorstores import Chroma\n",
    "from langchain_core.prompts import PromptTemplate\n",
    "from langchain_huggingface import HuggingFaceEmbeddings\n",
    "from langchain_openai import AzureChatOpenAI\n",
    "from langchain_text_splitters import RecursiveCharacterTextSplitter"
   ]
  },
  {
   "cell_type": "code",
   "execution_count": 3,
   "id": "f3fb3f72-9224-4b52-963e-9570e85857b3",
   "metadata": {},
   "outputs": [
    {
     "data": {
      "text/plain": [
       "True"
      ]
     },
     "execution_count": 3,
     "metadata": {},
     "output_type": "execute_result"
    }
   ],
   "source": [
    "# Load environment variables\n",
    "load_dotenv()"
   ]
  },
  {
   "cell_type": "markdown",
   "id": "3fb4c3e6-596f-4eb2-b7f0-d2287e0cd6ec",
   "metadata": {},
   "source": [
    "## langchain"
   ]
  },
  {
   "cell_type": "code",
   "execution_count": 6,
   "id": "bea9ebc3-c4ac-4d5f-bd76-0fdb12e43fcf",
   "metadata": {},
   "outputs": [],
   "source": [
    "def langchain_rag_pipeline(pdf_path: str):\n",
    "    \"\"\"Full RAG pipeline with query capabilities\"\"\"\n",
    "    # Load and chunk documents\n",
    "    loader = PyPDFLoader(pdf_path)\n",
    "    pages = loader.load()\n",
    "    text_splitter = RecursiveCharacterTextSplitter(\n",
    "        chunk_size=1000, chunk_overlap=200, add_start_index=True\n",
    "    )\n",
    "    chunks = text_splitter.split_documents(pages)\n",
    "\n",
    "    # Create and persist vector store\n",
    "    vector_store = Chroma.from_documents(\n",
    "        documents=chunks,\n",
    "        embedding=HuggingFaceEmbeddings(\n",
    "            model_name=\"sentence-transformers/all-mpnet-base-v2\"\n",
    "        ),\n",
    "    )\n",
    "\n",
    "    # Create retriever with metadata filtering\n",
    "    retriever = vector_store.as_retriever(\n",
    "        search_type=\"similarity\",\n",
    "        search_kwargs={\"k\": 3, \"filter\": {\"page\": {\"$gte\": 5}}},\n",
    "    )\n",
    "\n",
    "    # Define prompt template\n",
    "    prompt_template = PromptTemplate.from_template(\n",
    "        \"\"\"Answer the question based only on the following context:\n",
    "        {context}\n",
    "        \n",
    "        Question: {question}\n",
    "        \"\"\"\n",
    "    )\n",
    "\n",
    "    # Construct the chain with proper component order\n",
    "    # 1. First retrieve documents\n",
    "    # 2. Format the prompt with context and question\n",
    "    # 3. Send to LLM\n",
    "    # 4. Parse output\n",
    "    def format_docs(docs):\n",
    "        return \"\\n\\n\".join(doc.page_content for doc in docs)\n",
    "\n",
    "    llm = AzureChatOpenAI(\n",
    "        model=\"gpt-4o\", api_version=os.getenv(\"AZURE_OPENAI_API_VERSION\")\n",
    "    )\n",
    "\n",
    "    rag_chain = (\n",
    "        {\"context\": retriever | format_docs, \"question\": lambda x: x}\n",
    "        | prompt_template\n",
    "        | llm\n",
    "    )\n",
    "\n",
    "    return rag_chain"
   ]
  },
  {
   "cell_type": "code",
   "execution_count": 7,
   "id": "ccbef9cc-ad3d-42cf-9bed-bac9d2681ff4",
   "metadata": {},
   "outputs": [
    {
     "name": "stdout",
     "output_type": "stream",
     "text": [
      "The main topic of section 3 is **Global Vision**, which focuses on inspiring collective action and fostering hope through a shared vision for a sustainable future, including a healthy planet, thriving ecosystems, and equitable societies.\n"
     ]
    }
   ],
   "source": [
    "# Usage\n",
    "pdf_file_path = \"data/Understanding_Climate_Change.pdf\"\n",
    "qa = langchain_rag_pipeline(pdf_file_path)\n",
    "result = qa.invoke(\"What is the main topic of section 3?\")\n",
    "print(result.content)"
   ]
  },
  {
   "cell_type": "markdown",
   "id": "a7463384-bd8d-4890-a6bb-8172fefc9032",
   "metadata": {},
   "source": [
    "## llama-index"
   ]
  },
  {
   "cell_type": "code",
   "execution_count": 32,
   "id": "13154e7d-b3b0-4a73-bbd7-04a8de32691a",
   "metadata": {},
   "outputs": [],
   "source": [
    "from chromadb import Client\n",
    "from langchain.embeddings import HuggingFaceEmbeddings\n",
    "from llama_index.core import SimpleDirectoryReader, VectorStoreIndex\n",
    "from llama_index.core.node_parser import SentenceSplitter\n",
    "from llama_index.embeddings.langchain import LangchainEmbedding\n",
    "from llama_index.llms.azure_openai import AzureOpenAI\n",
    "from llama_index.vector_stores.chroma import ChromaVectorStore"
   ]
  },
  {
   "cell_type": "code",
   "execution_count": 29,
   "id": "e80bc7f8-c66a-4821-af09-c082f21c07bf",
   "metadata": {},
   "outputs": [],
   "source": [
    "# support langchain embeddings\n",
    "embeddings = HuggingFaceEmbeddings(model_name=\"sentence-transformers/all-mpnet-base-v2\")\n",
    "\n",
    "\n",
    "def llamaindex_rag_pipeline(pdf_path: str, persist_dir: str = \"llamaindex_db\"):\n",
    "    \"\"\"Full RAG pipeline with hybrid search\"\"\"\n",
    "    # Load documents\n",
    "    reader = SimpleDirectoryReader(input_files=[pdf_path])\n",
    "    documents = reader.load_data()\n",
    "\n",
    "    # Create index with Chroma\n",
    "    client = Client()\n",
    "    vector_store = ChromaVectorStore(\n",
    "        chroma_collection=client.get_or_create_collection(\"docs\")\n",
    "    )\n",
    "\n",
    "    lc_embed_model = HuggingFaceEmbeddings(\n",
    "        model_name=\"sentence-transformers/all-mpnet-base-v2\"\n",
    "    )\n",
    "    embed_model = LangchainEmbedding(lc_embed_model)\n",
    "\n",
    "    index = VectorStoreIndex.from_documents(\n",
    "        documents,\n",
    "        transformations=[SentenceSplitter(chunk_size=512)],\n",
    "        embed_model=embed_model,\n",
    "        vector_store=vector_store,\n",
    "    )\n",
    "\n",
    "    llm = AzureOpenAI(\n",
    "        model=\"gpt-4.1\",\n",
    "        engine=\"gpt-4.1\",\n",
    "        api_version=os.getenv(\"AZURE_OPENAI_API_VERSION\"),\n",
    "    )\n",
    "\n",
    "    query_engine = index.as_query_engine(\n",
    "        llm=llm,\n",
    "        similarity_top_k=6,\n",
    "    )\n",
    "\n",
    "    return query_engine"
   ]
  },
  {
   "cell_type": "code",
   "execution_count": 30,
   "id": "3f0d0cc8-d63e-4b0e-a73f-9b1fbfdac430",
   "metadata": {},
   "outputs": [
    {
     "name": "stdout",
     "output_type": "stream",
     "text": [
      "The document highlights several key findings regarding climate change and the actions needed to address it:\n",
      "\n",
      "1. **Intergenerational Equity and Responsibility:** There is a strong emphasis on the responsibility to protect the rights and well-being of future generations. This involves long-term thinking, sustainable resource management, and fostering a sense of stewardship and legacy.\n",
      "\n",
      "2. **Holistic and Inclusive Approaches:** Addressing climate change requires integrating environmental, social, and economic dimensions. Collaboration across sectors, innovation, and global solidarity are essential for effective climate action.\n",
      "\n",
      "3. **Empowerment and Education:** Educating and empowering individuals, especially youth, is crucial. Integrating climate education at all levels and supporting youth leadership can drive positive change and build a culture of sustainability.\n",
      "\n",
      "4. **Climate Justice and Social Equity:** The impacts of climate change are not evenly distributed, with vulnerable and marginalized communities facing the greatest risks. Climate justice calls for equitable solutions, addressing environmental racism, and ensuring inclusive policies that engage diverse stakeholders.\n",
      "\n",
      "5. **Positive Narratives and Role Models:** Sharing stories of success, resilience, and environmental stewardship inspires action. Recognizing climate champions and building diverse networks encourages broader participation.\n",
      "\n",
      "6. **Policy and Governance:** Effective climate action depends on robust policies, governance, and accountability. This includes setting ambitious targets, implementing regulations, and ensuring participatory decision-making.\n",
      "\n",
      "7. **International Cooperation:** Global collaboration is vital, including climate finance, technology transfer, and capacity building to support developing countries. International negotiations and agreements play a key role in advancing global climate action.\n",
      "\n",
      "8. **Community and Individual Action:** Both individual and community initiatives are important for driving systemic change. Sustainable practices, local projects, and community-led efforts contribute to resilience and sustainability.\n",
      "\n",
      "9. **Vision for a Sustainable Future:** Achieving a resilient, equitable, and thriving world requires commitment, innovation, and collective effort. The Sustainable Development Goals provide a framework for integrating climate action with broader development objectives.\n",
      "\n",
      "Overall, the document underscores the urgent need for collective, inclusive, and forward-thinking action to address the complex challenges of climate change and ensure a sustainable legacy for future generations.\n"
     ]
    }
   ],
   "source": [
    "pdf_file_path = \"data/Understanding_Climate_Change.pdf\"\n",
    "engine = llamaindex_rag_pipeline(pdf_file_path)\n",
    "response = engine.query(\"What are the key findings in this document?\")\n",
    "print(response.response)"
   ]
  },
  {
   "cell_type": "code",
   "execution_count": null,
   "id": "57cfc23c-5277-4d51-877f-6384d9f7086f",
   "metadata": {},
   "outputs": [],
   "source": []
  }
 ],
 "metadata": {
  "kernelspec": {
   "display_name": "Python 3 (ipykernel)",
   "language": "python",
   "name": "python3"
  },
  "language_info": {
   "codemirror_mode": {
    "name": "ipython",
    "version": 3
   },
   "file_extension": ".py",
   "mimetype": "text/x-python",
   "name": "python",
   "nbconvert_exporter": "python",
   "pygments_lexer": "ipython3",
   "version": "3.12.9"
  }
 },
 "nbformat": 4,
 "nbformat_minor": 5
}

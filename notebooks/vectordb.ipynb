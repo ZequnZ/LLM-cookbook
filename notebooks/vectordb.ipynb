{
 "cells": [
  {
   "cell_type": "markdown",
   "id": "93659c4f-81ac-4eaf-89ee-379425fbbf54",
   "metadata": {},
   "source": [
    "# Vector database"
   ]
  },
  {
   "cell_type": "markdown",
   "id": "9e4ab54e-abf3-4443-92cd-5a8c9e504b97",
   "metadata": {},
   "source": [
    "## FAISS\n",
    "\n",
    "https://github.com/facebookresearch/faiss/wiki/Getting-started"
   ]
  },
  {
   "cell_type": "code",
   "execution_count": 2,
   "id": "668d80c7-1f8c-403e-9603-73a4d416f608",
   "metadata": {},
   "outputs": [],
   "source": [
    "import faiss\n",
    "import numpy as np"
   ]
  },
  {
   "cell_type": "code",
   "execution_count": 25,
   "id": "2da704e5-5da0-4ceb-a36b-ca237f613c73",
   "metadata": {},
   "outputs": [
    {
     "name": "stdout",
     "output_type": "stream",
     "text": [
      "Index contains 1331 vectors\n"
     ]
    }
   ],
   "source": [
    "# Generate our 3D vectors (1331 vectors)\n",
    "# from [0,0,0] to [10,10,10]\n",
    "all_vectors = [[x, y, z] for x in range(11) for y in range(11) for z in range(11)]\n",
    "vectors = np.array(all_vectors, dtype=\"float32\")\n",
    "\n",
    "# Create a FAISS index\n",
    "dimension = 3  # Our vectors are 3D\n",
    "index = faiss.IndexFlatL2(dimension)  # L2 distance for similarity search\n",
    "\n",
    "# Add vectors to the index\n",
    "index.add(vectors)\n",
    "print(f\"Index contains {index.ntotal} vectors\")"
   ]
  },
  {
   "cell_type": "code",
   "execution_count": 31,
   "id": "4d47c5ab-de81-43c9-9255-b1344541c3fe",
   "metadata": {},
   "outputs": [
    {
     "name": "stdout",
     "output_type": "stream",
     "text": [
      "\n",
      "Top 5 similar vectors to [5.1, 5.2, 5.3]:\n",
      "1: [5, 5, 5] (distance: 0.14)\n",
      "2: [5, 5, 6] (distance: 0.54)\n",
      "3: [5, 6, 5] (distance: 0.74)\n",
      "4: [6, 5, 5] (distance: 0.94)\n",
      "5: [5, 6, 6] (distance: 1.14)\n",
      "\n",
      "Top 5 similar vectors to [5.1, 5.2, 5.3]:\n",
      "1: [5. 5. 5.] (distance: 0.14)\n",
      "2: [5. 5. 6.] (distance: 0.54)\n",
      "3: [5. 6. 5.] (distance: 0.74)\n",
      "4: [6. 5. 5.] (distance: 0.94)\n",
      "5: [5. 6. 6.] (distance: 1.14)\n"
     ]
    }
   ],
   "source": [
    "# Search for similar vectors\n",
    "query_vector = np.array([[5.1, 5.2, 5.3]], dtype=\"float32\")\n",
    "k = 5  # Number of nearest neighbors to find\n",
    "\n",
    "distances, indices = index.search(query_vector, k)\n",
    "\n",
    "print(\"\\nTop 5 similar vectors to [5.1, 5.2, 5.3]:\")\n",
    "for i, idx in enumerate(indices[0]):\n",
    "    print(f\"{i + 1}: {all_vectors[idx]} (distance: {distances[0][i]:.2f})\")\n",
    "\n",
    "# OR\n",
    "\n",
    "distances, indices, search_results = index.search_and_reconstruct(query_vector, k)\n",
    "\n",
    "print(\"\\nTop 5 similar vectors to [5.1, 5.2, 5.3]:\")\n",
    "for i, idx in enumerate(indices[0]):\n",
    "    print(f\"{i + 1}: {search_results[0][i]} (distance: {distances[0][i]:.2f})\")"
   ]
  },
  {
   "cell_type": "code",
   "execution_count": 34,
   "id": "1535cebb-2a5c-4a5e-ad49-246967c2ff86",
   "metadata": {},
   "outputs": [
    {
     "name": "stdout",
     "output_type": "stream",
     "text": [
      "\n",
      "Vectors within distance 1.5 from [5,5,5]:\n",
      "[4, 5, 5] (distance: 1.00)\n",
      "[5, 4, 5] (distance: 1.00)\n",
      "[5, 5, 4] (distance: 1.00)\n",
      "[5, 5, 5] (distance: 0.00)\n",
      "[5, 5, 6] (distance: 1.00)\n",
      "[5, 6, 5] (distance: 1.00)\n",
      "[6, 5, 5] (distance: 1.00)\n"
     ]
    }
   ],
   "source": [
    "# Find all vectors within distance 1.5 from [5,5,5]\n",
    "query = np.array([[5, 5, 5]], dtype=\"float32\")\n",
    "radius = 1.5\n",
    "\n",
    "# FAISS range search\n",
    "lims, D, I = index.range_search(query, radius)\n",
    "\n",
    "print(\"\\nVectors within distance 1.5 from [5,5,5]:\")\n",
    "for i in range(lims[0], lims[1]):\n",
    "    print(f\"{all_vectors[I[i]]} (distance: {D[i]:.2f})\")"
   ]
  },
  {
   "cell_type": "code",
   "execution_count": 32,
   "id": "58ff10c2-944a-4f6a-906b-26022520c62b",
   "metadata": {},
   "outputs": [
    {
     "name": "stdout",
     "output_type": "stream",
     "text": [
      "\n",
      "Updated vector at position 133 to [1.5, 1.5, 1.5]\n"
     ]
    }
   ],
   "source": [
    "# Update a vector (FAISS doesn't have direct update, so we remove and add)\n",
    "vector_to_update = [1, 1, 1]\n",
    "new_vector = [1.5, 1.5, 1.5]\n",
    "\n",
    "# Find the index of the vector to update\n",
    "vector_array = np.array([vector_to_update], dtype=\"float32\")\n",
    "_, idx = index.search(vector_array, 1)\n",
    "target_idx = idx[0][0]\n",
    "\n",
    "# Remove the old vector (FAISS doesn't support direct removal, we reconstruct)\n",
    "all_vectors[target_idx] = new_vector\n",
    "vectors = np.array(all_vectors, dtype=\"float32\")\n",
    "\n",
    "# Rebuild the index\n",
    "index.reset()\n",
    "index.add(vectors)\n",
    "print(f\"\\nUpdated vector at position {target_idx} to {new_vector}\")"
   ]
  },
  {
   "cell_type": "code",
   "execution_count": 33,
   "id": "5f065538-31e5-466c-8b1a-390415a1cc64",
   "metadata": {},
   "outputs": [
    {
     "name": "stdout",
     "output_type": "stream",
     "text": [
      "\n",
      "Deleted vector [2,2,2]. Now index contains 1330 vectors\n"
     ]
    }
   ],
   "source": [
    "# Delete a vector (again, by reconstructing)\n",
    "vector_to_delete = [2, 2, 2]\n",
    "\n",
    "# Find the index\n",
    "vector_array = np.array([vector_to_delete], dtype=\"float32\")\n",
    "_, idx = index.search(vector_array, 1)\n",
    "target_idx = idx[0][0]\n",
    "\n",
    "# Remove from our list and rebuild\n",
    "del all_vectors[target_idx]\n",
    "vectors = np.array(all_vectors, dtype=\"float32\")\n",
    "\n",
    "index.reset()\n",
    "index.add(vectors)\n",
    "print(f\"\\nDeleted vector [2,2,2]. Now index contains {index.ntotal} vectors\")"
   ]
  },
  {
   "cell_type": "markdown",
   "id": "e2adaca6-63f6-48c5-83bd-3d72db9459d4",
   "metadata": {},
   "source": [
    "## Chroma\n",
    "\n",
    "https://docs.trychroma.com/docs/overview/introduction"
   ]
  },
  {
   "cell_type": "code",
   "execution_count": 1,
   "id": "f5e8ab98-a081-4bde-b3d6-9e30d401602c",
   "metadata": {},
   "outputs": [],
   "source": [
    "import chromadb\n",
    "from chromadb.utils import embedding_functions"
   ]
  },
  {
   "cell_type": "code",
   "execution_count": 1,
   "id": "8a0b1702-2de9-4785-93e8-9c0fccf7fcfe",
   "metadata": {},
   "outputs": [
    {
     "name": "stderr",
     "output_type": "stream",
     "text": [
      "/Users/zequnzhou/Desktop/Code/myspace/LLM-cookbook/.venv/lib/python3.12/site-packages/tqdm/auto.py:21: TqdmWarning: IProgress not found. Please update jupyter and ipywidgets. See https://ipywidgets.readthedocs.io/en/stable/user_install.html\n",
      "  from .autonotebook import tqdm as notebook_tqdm\n",
      "Xet Storage is enabled for this repo, but the 'hf_xet' package is not installed. Falling back to regular HTTP download. For better performance, install the package with: `pip install huggingface_hub[hf_xet]` or `pip install hf_xet`\n"
     ]
    },
    {
     "name": "stdout",
     "output_type": "stream",
     "text": [
      "Added 8 vectors to collection\n"
     ]
    }
   ],
   "source": [
    "# Initialize client\n",
    "client = chromadb.Client()\n",
    "\n",
    "# Create collection with embedding function\n",
    "sentence_transformer_ef = embedding_functions.SentenceTransformerEmbeddingFunction(\n",
    "    model_name=\"all-MiniLM-L6-v2\"\n",
    ")\n",
    "\n",
    "collection = client.create_collection(\n",
    "    name=\"3d_vectors\", embedding_function=sentence_transformer_ef\n",
    ")\n",
    "\n",
    "# Generate our 3D vectors (just 10 for demo)\n",
    "vectors = [[x, y, z] for x in range(2) for y in range(2) for z in range(2)]\n",
    "documents = [f\"Vector {i}: {vec}\" for i, vec in enumerate(vectors)]\n",
    "ids = [str(i) for i in range(len(vectors))]\n",
    "\n",
    "# Add to collection\n",
    "collection.add(\n",
    "    documents=documents,\n",
    "    embeddings=vectors,  # Use our 3D vectors directly\n",
    "    ids=ids,\n",
    ")\n",
    "\n",
    "print(f\"Added {len(vectors)} vectors to collection\")"
   ]
  },
  {
   "cell_type": "code",
   "execution_count": 13,
   "id": "08531f6b-abd2-4c5c-86e2-cb675e1aefa9",
   "metadata": {},
   "outputs": [
    {
     "name": "stdout",
     "output_type": "stream",
     "text": [
      "\n",
      "Get by ID:\n",
      "{'ids': ['0', '3'], 'embeddings': None, 'documents': ['Vector 0: [0, 0, 0]', 'Vector 3: [0, 1, 1]'], 'uris': None, 'included': ['metadatas', 'documents'], 'data': None, 'metadatas': [None, None]}\n",
      "\n",
      "Get by ID:\n",
      "{'ids': ['0', '3'], 'embeddings': array([[0., 0., 0.],\n",
      "       [0., 1., 1.]]), 'documents': None, 'uris': None, 'included': ['embeddings'], 'data': None, 'metadatas': None}\n"
     ]
    }
   ],
   "source": [
    "# Simple query by ID\n",
    "# By default, only documents and metadata are returned\n",
    "result = collection.get(ids=[\"0\", \"3\"])\n",
    "print(\"\\nGet by ID:\")\n",
    "print(result)\n",
    "\n",
    "# Simple query by ID\n",
    "# ask it to return embeddings as well\n",
    "result = collection.get(ids=[\"0\", \"3\"], include=[\"embeddings\"])\n",
    "print(\"\\nGet by ID:\")\n",
    "print(result)"
   ]
  },
  {
   "cell_type": "code",
   "execution_count": 27,
   "id": "731955f2-4c57-4bd3-8fa0-5ff717ab1e88",
   "metadata": {},
   "outputs": [
    {
     "name": "stdout",
     "output_type": "stream",
     "text": [
      "Similarity search: [0.5, 0.65, 0.7]\n",
      "\n",
      "Similarity search results:\n",
      "Document: Vector 3: [0, 1, 1]\n",
      "Vector: [0. 1. 1.]\n",
      "Distance: 0.4625\n",
      "---\n",
      "Document: Vector 7: [1, 1, 1]\n",
      "Vector: [1. 1. 1.]\n",
      "Distance: 0.4625\n",
      "---\n",
      "Document: Vector 1: [0, 0, 1]\n",
      "Vector: [0. 0. 1.]\n",
      "Distance: 0.7625\n",
      "---\n"
     ]
    }
   ],
   "source": [
    "# Similarity search\n",
    "query_vector = [0.5, 0.65, 0.7]\n",
    "results = collection.query(\n",
    "    query_embeddings=[query_vector],\n",
    "    n_results=3,\n",
    "    include=[\"documents\", \"distances\", \"embeddings\"],\n",
    ")\n",
    "print(f\"Similarity search: {query_vector}\")\n",
    "\n",
    "print(\"\\nSimilarity search results:\")\n",
    "for doc, emb, dist in zip(\n",
    "    results[\"documents\"][0], results[\"embeddings\"][0], results[\"distances\"][0]\n",
    "):\n",
    "    print(f\"Document: {doc}\")\n",
    "    print(f\"Vector: {emb}\")\n",
    "    print(f\"Distance: {dist:.4f}\")\n",
    "    print(\"---\")"
   ]
  },
  {
   "cell_type": "code",
   "execution_count": 28,
   "id": "22235444-6f58-413c-9ab0-e74ca326fe71",
   "metadata": {},
   "outputs": [
    {
     "name": "stdout",
     "output_type": "stream",
     "text": [
      "\n",
      "After update:\n",
      "{'ids': ['1'], 'embeddings': None, 'documents': ['Updated vector 1: [1.1, 1.1, 1.1]'], 'uris': None, 'included': ['metadatas', 'documents'], 'data': None, 'metadatas': [None]}\n"
     ]
    }
   ],
   "source": [
    "# Update a vector (Chroma handles this as delete+add internally)\n",
    "collection.update(\n",
    "    ids=[\"1\"],\n",
    "    embeddings=[[1.1, 1.1, 1.1]],\n",
    "    documents=[\"Updated vector 1: [1.1, 1.1, 1.1]\"],\n",
    ")\n",
    "\n",
    "# Verify update\n",
    "result = collection.get(ids=[\"1\"])\n",
    "print(\"\\nAfter update:\")\n",
    "print(result)"
   ]
  },
  {
   "cell_type": "code",
   "execution_count": 29,
   "id": "384b1010-d54c-48c6-961e-8499c84fd6ed",
   "metadata": {},
   "outputs": [
    {
     "name": "stdout",
     "output_type": "stream",
     "text": [
      "\n",
      "Remaining vectors: 7\n"
     ]
    }
   ],
   "source": [
    "# Delete a vector\n",
    "collection.delete(ids=[\"2\"])\n",
    "\n",
    "# Verify deletion\n",
    "remaining = collection.get()\n",
    "print(f\"\\nRemaining vectors: {len(remaining['ids'])}\")"
   ]
  },
  {
   "cell_type": "markdown",
   "id": "0926a366-9009-4430-ba26-504c8cb733ad",
   "metadata": {},
   "source": [
    "## Metadata"
   ]
  },
  {
   "cell_type": "code",
   "execution_count": 7,
   "id": "38b70eb2-1326-476b-99c7-f62aaece1e70",
   "metadata": {},
   "outputs": [
    {
     "name": "stdout",
     "output_type": "stream",
     "text": [
      "\n",
      "Similarity search results:\n",
      "Document: The latest smartphone features a 108MP camera\n",
      "Distance: 1.3211\n",
      "---\n",
      "Document: This budget laptop has 8GB RAM and 256GB SSD\n",
      "Distance: 1.7377\n",
      "---\n",
      "Document: Premium wireless headphones with noise cancellation\n",
      "Distance: 1.7670\n",
      "---\n"
     ]
    }
   ],
   "source": [
    "# Similarity search\n",
    "results = collection.query(\n",
    "    query_texts=[\"phone\"], n_results=3, include=[\"documents\", \"distances\"]\n",
    ")\n",
    "# print(f\"Similarity search: {query_vector}\")\n",
    "\n",
    "print(\"\\nSimilarity search results:\")\n",
    "for doc, dist in zip(results[\"documents\"][0], results[\"distances\"][0]):\n",
    "    print(f\"Document: {doc}\")\n",
    "    # print(f\"Vector: {emb}\")\n",
    "    print(f\"Distance: {dist:.4f}\")\n",
    "    print(\"---\")"
   ]
  },
  {
   "cell_type": "code",
   "execution_count": 2,
   "id": "f8f54f50-38c4-4cdc-99c4-c3fa058d3870",
   "metadata": {},
   "outputs": [
    {
     "name": "stdout",
     "output_type": "stream",
     "text": [
      "Stored metadata example:\n",
      "{'in_stock': True, 'brand': 'Samsung', 'subcategory': 'phones', 'price': 999.99, 'tags': 'flagship,camera,5G', 'category': 'electronics'}\n"
     ]
    }
   ],
   "source": [
    "# Initialize client\n",
    "client = chromadb.Client()\n",
    "\n",
    "# Create collection with embedding function\n",
    "# Modify default settings\n",
    "collection = client.create_collection(\n",
    "    name=\"new_collection\",\n",
    "    embedding_function=embedding_functions.DefaultEmbeddingFunction(),\n",
    ")\n",
    "\n",
    "# Add documents with multiple metadata fields\n",
    "documents = [\n",
    "    \"The latest smartphone features a 108MP camera\",\n",
    "    \"This budget laptop has 8GB RAM and 256GB SSD\",\n",
    "    \"Premium wireless headphones with noise cancellation\",\n",
    "]\n",
    "\n",
    "embeddings = [\n",
    "    [0.1, 0.2, 0.3],  # Simple 3D embeddings for demo\n",
    "    [0.4, 0.5, 0.6],\n",
    "    [0.7, 0.8, 0.9],\n",
    "]\n",
    "\n",
    "metadatas = [\n",
    "    {\n",
    "        \"category\": \"electronics\",\n",
    "        \"subcategory\": \"phones\",\n",
    "        \"price\": 999.99,\n",
    "        \"brand\": \"Samsung\",\n",
    "        \"in_stock\": True,\n",
    "        \"tags\": \"flagship,camera,5G\",\n",
    "    },\n",
    "    {\n",
    "        \"category\": \"electronics\",\n",
    "        \"subcategory\": \"computers\",\n",
    "        \"price\": 499.99,\n",
    "        \"brand\": \"Acer\",\n",
    "        \"in_stock\": False,\n",
    "        \"tags\": \"budget,student\",\n",
    "    },\n",
    "    {\n",
    "        \"category\": \"audio\",\n",
    "        \"subcategory\": \"headphones\",\n",
    "        \"price\": 349.99,\n",
    "        \"brand\": \"Sony\",\n",
    "        \"in_stock\": True,\n",
    "        \"tags\": \"wireless,noise-cancelling,premium\",\n",
    "    },\n",
    "]\n",
    "\n",
    "ids = [\"doc1\", \"doc2\", \"doc3\"]\n",
    "\n",
    "collection.add(\n",
    "    documents=documents,\n",
    "    # embeddings=embeddings,\n",
    "    metadatas=metadatas,\n",
    "    ids=ids,\n",
    ")\n",
    "\n",
    "# Verify metadata was stored\n",
    "print(\"Stored metadata example:\")\n",
    "print(collection.get(ids=[\"doc1\"])[\"metadatas\"][0])"
   ]
  },
  {
   "cell_type": "code",
   "execution_count": 3,
   "id": "a0b23269-a919-41b6-bf75-d43893287e24",
   "metadata": {},
   "outputs": [
    {
     "name": "stdout",
     "output_type": "stream",
     "text": [
      "\n",
      "Sony products:\n",
      "[['Premium wireless headphones with noise cancellation']]\n",
      "\n",
      "Premium products ($500+):\n",
      "[['The latest smartphone features a 108MP camera']]\n",
      "\n",
      "In-stock items:\n",
      "[['The latest smartphone features a 108MP camera', 'Premium wireless headphones with noise cancellation']]\n"
     ]
    }
   ],
   "source": [
    "# Query with simple equality\n",
    "results = collection.query(\n",
    "    query_texts=[\"gadget\"], n_results=2, where={\"brand\": {\"$eq\": \"Sony\"}}\n",
    ")\n",
    "print(\"\\nSony products:\")\n",
    "print(results[\"documents\"])\n",
    "\n",
    "# Numerical comparison\n",
    "results = collection.query(\n",
    "    query_texts=[\"device\"],\n",
    "    n_results=3,\n",
    "    where={\"price\": {\"$gte\": 500}},  # Greater than or equal to 500\n",
    ")\n",
    "print(\"\\nPremium products ($500+):\")\n",
    "print(results[\"documents\"])\n",
    "\n",
    "# Boolean filter\n",
    "results = collection.query(\n",
    "    query_texts=[\"product\"], n_results=3, where={\"in_stock\": {\"$eq\": True}}\n",
    ")\n",
    "print(\"\\nIn-stock items:\")\n",
    "print(results[\"documents\"])"
   ]
  }
 ],
 "metadata": {
  "kernelspec": {
   "display_name": "Python 3 (ipykernel)",
   "language": "python",
   "name": "python3"
  },
  "language_info": {
   "codemirror_mode": {
    "name": "ipython",
    "version": 3
   },
   "file_extension": ".py",
   "mimetype": "text/x-python",
   "name": "python",
   "nbconvert_exporter": "python",
   "pygments_lexer": "ipython3",
   "version": "3.12.9"
  }
 },
 "nbformat": 4,
 "nbformat_minor": 5
}

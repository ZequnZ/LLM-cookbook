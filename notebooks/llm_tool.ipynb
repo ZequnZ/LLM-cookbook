{
 "cells": [
  {
   "cell_type": "code",
   "execution_count": 38,
   "id": "d01ae1df-6b77-4081-a024-b8782fbdf30d",
   "metadata": {},
   "outputs": [],
   "source": [
    "import os\n",
    "from typing import Any, Literal, TypedDict\n",
    "\n",
    "from dotenv import load_dotenv\n",
    "from openai import AzureOpenAI\n",
    "from pydantic import BaseModel, Field"
   ]
  },
  {
   "cell_type": "code",
   "execution_count": 15,
   "id": "efa92db7-eef9-4be6-9580-eb311f721a43",
   "metadata": {},
   "outputs": [],
   "source": [
    "load_dotenv()\n",
    "\n",
    "client = AzureOpenAI(\n",
    "    # This is the default and can be omitted\n",
    "    api_key=os.getenv(\"AZURE_OPENAI_API_KEY\"),\n",
    "    api_version=os.getenv(\"AZURE_OPENAI_API_VERSION\"),\n",
    "    azure_endpoint=os.getenv(\"AZURE_OPENAI_ENDPOINT\"),\n",
    ")"
   ]
  },
  {
   "cell_type": "code",
   "execution_count": 247,
   "id": "73337808-8502-4bcc-bafc-02279d05a284",
   "metadata": {},
   "outputs": [],
   "source": [
    "import json\n",
    "from enum import Enum\n",
    "\n",
    "\n",
    "class Role(Enum):\n",
    "    SYSTEM = \"system\"\n",
    "    USER = \"user\"\n",
    "    ASSISTANT = \"assistant\"\n",
    "\n",
    "\n",
    "class Message(TypedDict):\n",
    "    role: Role\n",
    "    content: str\n",
    "    tool_call_id: str | None = Field(None)\n",
    "\n",
    "\n",
    "sys_prompt = \"You are a helpful assistant\"\n",
    "input_ = \"how are you\"\n",
    "message_stack = [\n",
    "    Message(role=\"system\", content=sys_prompt),\n",
    "    Message(role=\"user\", content=input_),\n",
    "]\n",
    "send_request = client.chat.completions.create(messages=message_stack, model=\"gpt-4o\")\n",
    "response_body = json.loads(send_request.to_json())"
   ]
  },
  {
   "cell_type": "code",
   "execution_count": 11,
   "id": "1af8167f-7f95-4171-8530-e56c6e1c29b0",
   "metadata": {},
   "outputs": [
    {
     "data": {
      "text/plain": [
       "{'id': 'chatcmpl-BU7yfUBPhxJyhpacIIDTTfCs7xP6C',\n",
       " 'choices': [{'finish_reason': 'stop',\n",
       "   'index': 0,\n",
       "   'logprobs': None,\n",
       "   'message': {'content': \"Thank you for asking! I'm just a virtual assistant, so I don't have feelings, but I'm here and ready to help you with anything you need. How about you? How are you doing today?\",\n",
       "    'refusal': None,\n",
       "    'role': 'assistant',\n",
       "    'annotations': []},\n",
       "   'content_filter_results': {'hate': {'filtered': False, 'severity': 'safe'},\n",
       "    'self_harm': {'filtered': False, 'severity': 'safe'},\n",
       "    'sexual': {'filtered': False, 'severity': 'safe'},\n",
       "    'violence': {'filtered': False, 'severity': 'safe'}}}],\n",
       " 'created': 1746520205,\n",
       " 'model': 'gpt-4o-2024-11-20',\n",
       " 'object': 'chat.completion',\n",
       " 'system_fingerprint': 'fp_ee1d74bde0',\n",
       " 'usage': {'completion_tokens': 41,\n",
       "  'prompt_tokens': 19,\n",
       "  'total_tokens': 60,\n",
       "  'completion_tokens_details': {'accepted_prediction_tokens': 0,\n",
       "   'audio_tokens': 0,\n",
       "   'reasoning_tokens': 0,\n",
       "   'rejected_prediction_tokens': 0},\n",
       "  'prompt_tokens_details': {'audio_tokens': 0, 'cached_tokens': 0}},\n",
       " 'prompt_filter_results': [{'prompt_index': 0,\n",
       "   'content_filter_results': {'hate': {'filtered': False, 'severity': 'safe'},\n",
       "    'jailbreak': {'filtered': False, 'detected': False},\n",
       "    'self_harm': {'filtered': False, 'severity': 'safe'},\n",
       "    'sexual': {'filtered': False, 'severity': 'safe'},\n",
       "    'violence': {'filtered': False, 'severity': 'safe'}}}]}"
      ]
     },
     "execution_count": 11,
     "metadata": {},
     "output_type": "execute_result"
    }
   ],
   "source": [
    "response_body"
   ]
  },
  {
   "cell_type": "code",
   "execution_count": 171,
   "id": "22182a49-5244-480b-838d-a6171ad9a05b",
   "metadata": {},
   "outputs": [],
   "source": [
    "TOOL_TYPE = Literal[\"function\"]\n",
    "\n",
    "\n",
    "class LLMToolFunctionParameter(BaseModel):\n",
    "    type: str = Field(\"object\", description=\"function name\")\n",
    "    properties: dict[str, Any] | None = Field(None, description=\"function input schema\")\n",
    "    required: list[str] | None = Field(None, description=\"function input schema\")\n",
    "\n",
    "\n",
    "class LLMToolFunction(BaseModel):\n",
    "    name: str = Field(..., description=\"function name\")\n",
    "    description: str = Field(..., description=\"function description\")\n",
    "    parameters: LLMToolFunctionParameter | None = Field(None)\n",
    "\n",
    "\n",
    "class LLMTool(BaseModel):\n",
    "    type: TOOL_TYPE = Field(\"function\", description=\"custom toll\")\n",
    "    function: LLMToolFunction = Field(..., description=\"custom toll\")\n",
    "    # a:bool = Field(..., description=\"testing\")\n",
    "    # parameters:LLMToolFunctionParameter = Field(...)\n",
    "\n",
    "    # @classmethod\n",
    "    # def get_function_parameters(self) -> dict[str, Any]:\n",
    "    #     \"\"\"Convert the Pydantic model to a tool schema for OpenAI.\"\"\"\n",
    "    #     properties = {}\n",
    "    #     required = []\n",
    "\n",
    "    #     # Get fields from the model\n",
    "    #     fields = self.model_fields\n",
    "\n",
    "    #     for field_name, field in fields.items():\n",
    "    #         if field_name in ['type','function']:\n",
    "    #             continue\n",
    "\n",
    "    #         # Get field type\n",
    "    #         field_type = field.annotation\n",
    "\n",
    "    #         if field_type is bool:\n",
    "    #             properties[field_name] = {\n",
    "    #                 \"type\": \"boolean\",\n",
    "    #                 \"description\": field.description,\n",
    "    #             }\n",
    "    #         # Add to required if not optional and no default\n",
    "    #         if field.is_required():  # and field.default is None:\n",
    "    #             required.append(field_name)\n",
    "\n",
    "    #     return properties, required\n",
    "\n",
    "\n",
    "class TestTool(LLMTool):\n",
    "    a: bool = Field(False, description=\"testing\")\n",
    "\n",
    "    # def __init__(self):\n",
    "    def __init__(self, llm_tool: LLMTool):\n",
    "        super().__init__(llm_tool)\n",
    "\n",
    "        # self.function = LLMToolFunction.model_construct()\n",
    "        # properties, required = self.LLMTool.get_function_parameters()\n",
    "\n",
    "        # self.function.model_construct({\"properties\": properties, \"required\": required})\n",
    "\n",
    "    # def model_post_init(context: Any) -> None:\n",
    "\n",
    "    #     properties, required = self.LLMTool.get_function_parameters()\n",
    "    #     self.function.model_cons|truct({\"properties\": properties, \"required\": required})"
   ]
  },
  {
   "cell_type": "code",
   "execution_count": 189,
   "id": "87823446-1854-4b98-836a-58115c17eb84",
   "metadata": {},
   "outputs": [],
   "source": [
    "llm_function = LLMToolFunction(**{\"name\": \"name\", \"description\": \"desc\"})\n",
    "l = LLMTool(function=llm_function)"
   ]
  },
  {
   "cell_type": "code",
   "execution_count": 182,
   "id": "a7173354-1cbc-4991-a22b-f094c25689bf",
   "metadata": {},
   "outputs": [
    {
     "data": {
      "text/plain": [
       "{'name': 'name', 'description': 'desc', 'parameters': None}"
      ]
     },
     "execution_count": 182,
     "metadata": {},
     "output_type": "execute_result"
    }
   ],
   "source": [
    "llm_function.model_dump()"
   ]
  },
  {
   "cell_type": "code",
   "execution_count": 187,
   "id": "99345f81-9745-47c6-a188-9b91daecc511",
   "metadata": {},
   "outputs": [
    {
     "data": {
      "text/plain": [
       "{'name': 'name', 'description': 'desc', 'parameters': None}"
      ]
     },
     "execution_count": 187,
     "metadata": {},
     "output_type": "execute_result"
    }
   ],
   "source": [
    "llm_function.model_dump()"
   ]
  },
  {
   "cell_type": "code",
   "execution_count": 190,
   "id": "9f3b9b49-8f61-4fbd-b9d2-1ce0567a3997",
   "metadata": {},
   "outputs": [
    {
     "ename": "TypeError",
     "evalue": "BaseModel.__init__() takes 1 positional argument but 2 were given",
     "output_type": "error",
     "traceback": [
      "\u001b[31m---------------------------------------------------------------------------\u001b[39m",
      "\u001b[31mTypeError\u001b[39m                                 Traceback (most recent call last)",
      "\u001b[36mCell\u001b[39m\u001b[36m \u001b[39m\u001b[32mIn[190]\u001b[39m\u001b[32m, line 1\u001b[39m\n\u001b[32m----> \u001b[39m\u001b[32m1\u001b[39m tt = \u001b[43mTestTool\u001b[49m\u001b[43m(\u001b[49m\u001b[43mllm_tool\u001b[49m\u001b[43m=\u001b[49m\u001b[43ml\u001b[49m\u001b[43m)\u001b[49m\n",
      "\u001b[36mCell\u001b[39m\u001b[36m \u001b[39m\u001b[32mIn[171]\u001b[39m\u001b[32m, line 55\u001b[39m, in \u001b[36mTestTool.__init__\u001b[39m\u001b[34m(self, llm_tool)\u001b[39m\n\u001b[32m     54\u001b[39m \u001b[38;5;28;01mdef\u001b[39;00m\u001b[38;5;250m \u001b[39m\u001b[34m__init__\u001b[39m(\u001b[38;5;28mself\u001b[39m, llm_tool: LLMTool):\n\u001b[32m---> \u001b[39m\u001b[32m55\u001b[39m     \u001b[38;5;28;43msuper\u001b[39;49m\u001b[43m(\u001b[49m\u001b[43m)\u001b[49m\u001b[43m.\u001b[49m\u001b[34;43m__init__\u001b[39;49m\u001b[43m(\u001b[49m\u001b[43mllm_tool\u001b[49m\u001b[43m)\u001b[49m\n",
      "\u001b[31mTypeError\u001b[39m: BaseModel.__init__() takes 1 positional argument but 2 were given"
     ]
    }
   ],
   "source": [
    "tt = TestTool(llm_tool=l)"
   ]
  },
  {
   "cell_type": "code",
   "execution_count": 173,
   "id": "198209d8-6012-4f5c-975e-66279ffd1417",
   "metadata": {},
   "outputs": [
    {
     "ename": "TypeError",
     "evalue": "TestTool.__init__() got an unexpected keyword argument 'function'",
     "output_type": "error",
     "traceback": [
      "\u001b[31m---------------------------------------------------------------------------\u001b[39m",
      "\u001b[31mTypeError\u001b[39m                                 Traceback (most recent call last)",
      "\u001b[36mCell\u001b[39m\u001b[36m \u001b[39m\u001b[32mIn[173]\u001b[39m\u001b[32m, line 1\u001b[39m\n\u001b[32m----> \u001b[39m\u001b[32m1\u001b[39m tt = \u001b[43mTestTool\u001b[49m\u001b[43m(\u001b[49m\u001b[43m*\u001b[49m\u001b[43m*\u001b[49m\u001b[43m{\u001b[49m\u001b[33;43m'\u001b[39;49m\u001b[33;43mfunction\u001b[39;49m\u001b[33;43m'\u001b[39;49m\u001b[43m:\u001b[49m\u001b[43mllm_function\u001b[49m\u001b[43m,\u001b[49m\u001b[33;43m'\u001b[39;49m\u001b[33;43ma\u001b[39;49m\u001b[33;43m'\u001b[39;49m\u001b[43m:\u001b[49m\u001b[38;5;28;43;01mTrue\u001b[39;49;00m\u001b[43m}\u001b[49m\u001b[43m)\u001b[49m\n",
      "\u001b[31mTypeError\u001b[39m: TestTool.__init__() got an unexpected keyword argument 'function'"
     ]
    }
   ],
   "source": [
    "tt = TestTool(**{\"function\": llm_function, \"a\": True})"
   ]
  },
  {
   "cell_type": "code",
   "execution_count": 170,
   "id": "d0be00ea-c285-4035-af9d-0aa1345fb044",
   "metadata": {},
   "outputs": [
    {
     "data": {
      "text/plain": [
       "{'type': 'function',\n",
       " 'function': {'name': 'name', 'description': 'desc', 'parameters': None},\n",
       " 'a': True}"
      ]
     },
     "execution_count": 170,
     "metadata": {},
     "output_type": "execute_result"
    }
   ],
   "source": [
    "tt.model_dump()"
   ]
  },
  {
   "cell_type": "code",
   "execution_count": 158,
   "id": "2a0437c8-e52c-402a-a6dc-ceec3fd8b3da",
   "metadata": {},
   "outputs": [
    {
     "ename": "TypeError",
     "evalue": "TestTool.model_post_init() takes 1 positional argument but 2 were given",
     "output_type": "error",
     "traceback": [
      "\u001b[31m---------------------------------------------------------------------------\u001b[39m",
      "\u001b[31mTypeError\u001b[39m                                 Traceback (most recent call last)",
      "\u001b[36mCell\u001b[39m\u001b[36m \u001b[39m\u001b[32mIn[158]\u001b[39m\u001b[32m, line 1\u001b[39m\n\u001b[32m----> \u001b[39m\u001b[32m1\u001b[39m tt = \u001b[43mTestTool\u001b[49m\u001b[43m(\u001b[49m\u001b[43mfunction\u001b[49m\u001b[43m=\u001b[49m\u001b[43mllm_function\u001b[49m\u001b[43m,\u001b[49m\u001b[43ma\u001b[49m\u001b[43m=\u001b[49m\u001b[38;5;28;43;01mTrue\u001b[39;49;00m\u001b[43m)\u001b[49m\n",
      "\u001b[36mFile \u001b[39m\u001b[32m~/Desktop/Code/myspace/LLM-cookbook/.venv/lib/python3.12/site-packages/pydantic/main.py:253\u001b[39m, in \u001b[36mBaseModel.__init__\u001b[39m\u001b[34m(self, **data)\u001b[39m\n\u001b[32m    251\u001b[39m \u001b[38;5;66;03m# `__tracebackhide__` tells pytest and some other tools to omit this function from tracebacks\u001b[39;00m\n\u001b[32m    252\u001b[39m __tracebackhide__ = \u001b[38;5;28;01mTrue\u001b[39;00m\n\u001b[32m--> \u001b[39m\u001b[32m253\u001b[39m validated_self = \u001b[38;5;28;43mself\u001b[39;49m\u001b[43m.\u001b[49m\u001b[43m__pydantic_validator__\u001b[49m\u001b[43m.\u001b[49m\u001b[43mvalidate_python\u001b[49m\u001b[43m(\u001b[49m\u001b[43mdata\u001b[49m\u001b[43m,\u001b[49m\u001b[43m \u001b[49m\u001b[43mself_instance\u001b[49m\u001b[43m=\u001b[49m\u001b[38;5;28;43mself\u001b[39;49m\u001b[43m)\u001b[49m\n\u001b[32m    254\u001b[39m \u001b[38;5;28;01mif\u001b[39;00m \u001b[38;5;28mself\u001b[39m \u001b[38;5;129;01mis\u001b[39;00m \u001b[38;5;129;01mnot\u001b[39;00m validated_self:\n\u001b[32m    255\u001b[39m     warnings.warn(\n\u001b[32m    256\u001b[39m         \u001b[33m'\u001b[39m\u001b[33mA custom validator is returning a value other than `self`.\u001b[39m\u001b[38;5;130;01m\\n\u001b[39;00m\u001b[33m'\u001b[39m\n\u001b[32m    257\u001b[39m         \u001b[33m\"\u001b[39m\u001b[33mReturning anything other than `self` from a top level model validator isn\u001b[39m\u001b[33m'\u001b[39m\u001b[33mt supported when validating via `__init__`.\u001b[39m\u001b[38;5;130;01m\\n\u001b[39;00m\u001b[33m\"\u001b[39m\n\u001b[32m    258\u001b[39m         \u001b[33m'\u001b[39m\u001b[33mSee the `model_validator` docs (https://docs.pydantic.dev/latest/concepts/validators/#model-validators) for more details.\u001b[39m\u001b[33m'\u001b[39m,\n\u001b[32m    259\u001b[39m         stacklevel=\u001b[32m2\u001b[39m,\n\u001b[32m    260\u001b[39m     )\n",
      "\u001b[31mTypeError\u001b[39m: TestTool.model_post_init() takes 1 positional argument but 2 were given"
     ]
    }
   ],
   "source": [
    "tt = TestTool(function=llm_function, a=True)"
   ]
  },
  {
   "cell_type": "code",
   "execution_count": 133,
   "id": "255fef48-be0a-4fba-a374-07b875ba7a0e",
   "metadata": {},
   "outputs": [
    {
     "ename": "AttributeError",
     "evalue": "'LLMTool' object has no attribute 'get_function_parameters'",
     "output_type": "error",
     "traceback": [
      "\u001b[31m---------------------------------------------------------------------------\u001b[39m",
      "\u001b[31mAttributeError\u001b[39m                            Traceback (most recent call last)",
      "\u001b[36mCell\u001b[39m\u001b[36m \u001b[39m\u001b[32mIn[133]\u001b[39m\u001b[32m, line 1\u001b[39m\n\u001b[32m----> \u001b[39m\u001b[32m1\u001b[39m \u001b[43ml\u001b[49m\u001b[43m.\u001b[49m\u001b[43mget_function_parameters\u001b[49m()\n",
      "\u001b[36mFile \u001b[39m\u001b[32m~/Desktop/Code/myspace/LLM-cookbook/.venv/lib/python3.12/site-packages/pydantic/main.py:989\u001b[39m, in \u001b[36mBaseModel.__getattr__\u001b[39m\u001b[34m(self, item)\u001b[39m\n\u001b[32m    986\u001b[39m     \u001b[38;5;28;01mreturn\u001b[39;00m \u001b[38;5;28msuper\u001b[39m().\u001b[34m__getattribute__\u001b[39m(item)  \u001b[38;5;66;03m# Raises AttributeError if appropriate\u001b[39;00m\n\u001b[32m    987\u001b[39m \u001b[38;5;28;01melse\u001b[39;00m:\n\u001b[32m    988\u001b[39m     \u001b[38;5;66;03m# this is the current error\u001b[39;00m\n\u001b[32m--> \u001b[39m\u001b[32m989\u001b[39m     \u001b[38;5;28;01mraise\u001b[39;00m \u001b[38;5;167;01mAttributeError\u001b[39;00m(\u001b[33mf\u001b[39m\u001b[33m'\u001b[39m\u001b[38;5;132;01m{\u001b[39;00m\u001b[38;5;28mtype\u001b[39m(\u001b[38;5;28mself\u001b[39m).\u001b[34m__name__\u001b[39m\u001b[38;5;132;01m!r}\u001b[39;00m\u001b[33m object has no attribute \u001b[39m\u001b[38;5;132;01m{\u001b[39;00mitem\u001b[38;5;132;01m!r}\u001b[39;00m\u001b[33m'\u001b[39m)\n",
      "\u001b[31mAttributeError\u001b[39m: 'LLMTool' object has no attribute 'get_function_parameters'"
     ]
    }
   ],
   "source": [
    "l.get_function_parameters()"
   ]
  },
  {
   "cell_type": "code",
   "execution_count": 145,
   "id": "2682e82b-b319-4e82-9e1d-34f5168a45ef",
   "metadata": {},
   "outputs": [
    {
     "data": {
      "text/plain": [
       "{'type': 'function',\n",
       " 'function': {'name': 'name', 'description': 'desc', 'parameters': None}}"
      ]
     },
     "execution_count": 145,
     "metadata": {},
     "output_type": "execute_result"
    }
   ],
   "source": [
    "l.model_dump()"
   ]
  },
  {
   "cell_type": "code",
   "execution_count": 135,
   "id": "c2056fe9-4481-457b-b0ce-fbc592b8be43",
   "metadata": {},
   "outputs": [
    {
     "data": {
      "text/plain": [
       "__main__.LLMTool"
      ]
     },
     "execution_count": 135,
     "metadata": {},
     "output_type": "execute_result"
    }
   ],
   "source": [
    "type(l)"
   ]
  },
  {
   "cell_type": "code",
   "execution_count": 143,
   "id": "d7952ea4-0f4c-42d4-89d4-8cc27e87fe0a",
   "metadata": {},
   "outputs": [
    {
     "ename": "TypeError",
     "evalue": "BaseModel.__init__() takes 1 positional argument but 2 were given",
     "output_type": "error",
     "traceback": [
      "\u001b[31m---------------------------------------------------------------------------\u001b[39m",
      "\u001b[31mTypeError\u001b[39m                                 Traceback (most recent call last)",
      "\u001b[36mCell\u001b[39m\u001b[36m \u001b[39m\u001b[32mIn[143]\u001b[39m\u001b[32m, line 1\u001b[39m\n\u001b[32m----> \u001b[39m\u001b[32m1\u001b[39m llm_function = \u001b[43mLLMToolFunction\u001b[49m\u001b[43m(\u001b[49m\u001b[43m{\u001b[49m\u001b[33;43m'\u001b[39;49m\u001b[33;43mname\u001b[39;49m\u001b[33;43m'\u001b[39;49m\u001b[43m:\u001b[49m\u001b[33;43m'\u001b[39;49m\u001b[33;43mname\u001b[39;49m\u001b[33;43m'\u001b[39;49m\u001b[43m,\u001b[49m\u001b[33;43m'\u001b[39;49m\u001b[33;43mdescription\u001b[39;49m\u001b[33;43m'\u001b[39;49m\u001b[43m:\u001b[49m\u001b[33;43m'\u001b[39;49m\u001b[33;43mdesc\u001b[39;49m\u001b[33;43m'\u001b[39;49m\u001b[43m}\u001b[49m\u001b[43m)\u001b[49m\n",
      "\u001b[31mTypeError\u001b[39m: BaseModel.__init__() takes 1 positional argument but 2 were given"
     ]
    }
   ],
   "source": [
    "llm_function = LLMToolFunction({\"name\": \"name\", \"description\": \"desc\"})"
   ]
  },
  {
   "cell_type": "code",
   "execution_count": 142,
   "id": "498c8abf-63c1-4cd3-ac3f-e13353e6c504",
   "metadata": {},
   "outputs": [
    {
     "ename": "TypeError",
     "evalue": "BaseModel.__init__() takes 1 positional argument but 2 were given",
     "output_type": "error",
     "traceback": [
      "\u001b[31m---------------------------------------------------------------------------\u001b[39m",
      "\u001b[31mTypeError\u001b[39m                                 Traceback (most recent call last)",
      "\u001b[36mCell\u001b[39m\u001b[36m \u001b[39m\u001b[32mIn[142]\u001b[39m\u001b[32m, line 4\u001b[39m\n\u001b[32m      1\u001b[39m llm_function = LLMToolFunction(name=\u001b[33m'\u001b[39m\u001b[33mname\u001b[39m\u001b[33m'\u001b[39m, description=\u001b[33m'\u001b[39m\u001b[33mdesc\u001b[39m\u001b[33m'\u001b[39m)\n\u001b[32m      2\u001b[39m l = LLMTool(function=llm_function)\n\u001b[32m----> \u001b[39m\u001b[32m4\u001b[39m tt = \u001b[43mTestTool\u001b[49m\u001b[43m(\u001b[49m\u001b[43ml\u001b[49m\u001b[43m)\u001b[49m\n",
      "\u001b[36mCell\u001b[39m\u001b[36m \u001b[39m\u001b[32mIn[131]\u001b[39m\u001b[32m, line 55\u001b[39m, in \u001b[36mTestTool.__init__\u001b[39m\u001b[34m(self, llm_tool)\u001b[39m\n\u001b[32m     54\u001b[39m \u001b[38;5;28;01mdef\u001b[39;00m\u001b[38;5;250m \u001b[39m\u001b[34m__init__\u001b[39m(\u001b[38;5;28mself\u001b[39m, llm_tool: LLMTool):\n\u001b[32m---> \u001b[39m\u001b[32m55\u001b[39m     \u001b[38;5;28;43msuper\u001b[39;49m\u001b[43m(\u001b[49m\u001b[43m)\u001b[49m\u001b[43m.\u001b[49m\u001b[34;43m__init__\u001b[39;49m\u001b[43m(\u001b[49m\u001b[43mllm_tool\u001b[49m\u001b[43m)\u001b[49m\n\u001b[32m     57\u001b[39m     \u001b[38;5;66;03m# self.function = LLMToolFunction.model_construct()\u001b[39;00m\n\u001b[32m     58\u001b[39m     properties, required = \u001b[38;5;28mself\u001b[39m.LLMTool.get_function_parameters()\n",
      "\u001b[31mTypeError\u001b[39m: BaseModel.__init__() takes 1 positional argument but 2 were given"
     ]
    }
   ],
   "source": [
    "llm_function = LLMToolFunction(name=\"name\", description=\"desc\")\n",
    "l = LLMTool(function=llm_function)\n",
    "\n",
    "tt = TestTool(l)"
   ]
  },
  {
   "cell_type": "code",
   "execution_count": 108,
   "id": "4516443a-89b6-4816-b50f-ce075b670323",
   "metadata": {
    "scrolled": true
   },
   "outputs": [
    {
     "ename": "TypeError",
     "evalue": "BaseModel.__init__() takes 1 positional argument but 2 were given",
     "output_type": "error",
     "traceback": [
      "\u001b[31m---------------------------------------------------------------------------\u001b[39m",
      "\u001b[31mTypeError\u001b[39m                                 Traceback (most recent call last)",
      "\u001b[36mCell\u001b[39m\u001b[36m \u001b[39m\u001b[32mIn[108]\u001b[39m\u001b[32m, line 1\u001b[39m\n\u001b[32m----> \u001b[39m\u001b[32m1\u001b[39m tt = \u001b[43mTestTool\u001b[49m\u001b[43m(\u001b[49m\u001b[43mLLMTool\u001b[49m\u001b[43m(\u001b[49m\u001b[43mfunction\u001b[49m\u001b[43m=\u001b[49m\u001b[43mLLMToolFunction\u001b[49m\u001b[43m(\u001b[49m\u001b[43mname\u001b[49m\u001b[43m=\u001b[49m\u001b[33;43m'\u001b[39;49m\u001b[33;43mname\u001b[39;49m\u001b[33;43m'\u001b[39;49m\u001b[43m,\u001b[49m\u001b[43m \u001b[49m\u001b[43mdescription\u001b[49m\u001b[43m=\u001b[49m\u001b[33;43m'\u001b[39;49m\u001b[33;43mdesc\u001b[39;49m\u001b[33;43m'\u001b[39;49m\u001b[43m)\u001b[49m\u001b[43m)\u001b[49m\u001b[43m)\u001b[49m\n",
      "\u001b[36mCell\u001b[39m\u001b[36m \u001b[39m\u001b[32mIn[107]\u001b[39m\u001b[32m, line 55\u001b[39m, in \u001b[36mTestTool.__init__\u001b[39m\u001b[34m(self, llm_tool)\u001b[39m\n\u001b[32m     54\u001b[39m \u001b[38;5;28;01mdef\u001b[39;00m\u001b[38;5;250m \u001b[39m\u001b[34m__init__\u001b[39m(\u001b[38;5;28mself\u001b[39m, llm_tool: LLMTool):\n\u001b[32m---> \u001b[39m\u001b[32m55\u001b[39m     \u001b[38;5;28;43msuper\u001b[39;49m\u001b[43m(\u001b[49m\u001b[43m)\u001b[49m\u001b[43m.\u001b[49m\u001b[34;43m__init__\u001b[39;49m\u001b[43m(\u001b[49m\u001b[43mllm_tool\u001b[49m\u001b[43m)\u001b[49m\n\u001b[32m     57\u001b[39m     \u001b[38;5;66;03m# self.function = LLMToolFunction.model_construct()\u001b[39;00m\n\u001b[32m     58\u001b[39m     properties, required = \u001b[38;5;28mself\u001b[39m.LLMTool.get_function_parameters()\n",
      "\u001b[31mTypeError\u001b[39m: BaseModel.__init__() takes 1 positional argument but 2 were given"
     ]
    }
   ],
   "source": [
    "tt = TestTool(LLMTool(function=LLMToolFunction(name=\"name\", description=\"desc\")))"
   ]
  },
  {
   "cell_type": "code",
   "execution_count": 63,
   "id": "97415b8f-f61a-45b3-8939-022f2a32d95b",
   "metadata": {},
   "outputs": [
    {
     "ename": "TypeError",
     "evalue": "BaseModel.__init__() takes 1 positional argument but 2 were given",
     "output_type": "error",
     "traceback": [
      "\u001b[31m---------------------------------------------------------------------------\u001b[39m",
      "\u001b[31mTypeError\u001b[39m                                 Traceback (most recent call last)",
      "\u001b[36mCell\u001b[39m\u001b[36m \u001b[39m\u001b[32mIn[63]\u001b[39m\u001b[32m, line 2\u001b[39m\n\u001b[32m      1\u001b[39m llm_function = LLMToolFunction(name=\u001b[33m'\u001b[39m\u001b[33mname\u001b[39m\u001b[33m'\u001b[39m, description=\u001b[33m'\u001b[39m\u001b[33mdesc\u001b[39m\u001b[33m'\u001b[39m)\n\u001b[32m----> \u001b[39m\u001b[32m2\u001b[39m tt = \u001b[43mTestTool\u001b[49m\u001b[43m(\u001b[49m\u001b[43mllm_tool\u001b[49m\u001b[43m=\u001b[49m\u001b[43mLLMTool\u001b[49m\u001b[43m(\u001b[49m\u001b[43mfunction\u001b[49m\u001b[43m=\u001b[49m\u001b[43mllm_function\u001b[49m\u001b[43m)\u001b[49m\u001b[43m)\u001b[49m\n",
      "\u001b[36mCell\u001b[39m\u001b[36m \u001b[39m\u001b[32mIn[50]\u001b[39m\u001b[32m, line 53\u001b[39m, in \u001b[36mTestTool.__init__\u001b[39m\u001b[34m(self, llm_tool)\u001b[39m\n\u001b[32m     52\u001b[39m \u001b[38;5;28;01mdef\u001b[39;00m\u001b[38;5;250m \u001b[39m\u001b[34m__init__\u001b[39m(\u001b[38;5;28mself\u001b[39m, llm_tool: LLMTool):\n\u001b[32m---> \u001b[39m\u001b[32m53\u001b[39m     \u001b[38;5;28;43msuper\u001b[39;49m\u001b[43m(\u001b[49m\u001b[43m)\u001b[49m\u001b[43m.\u001b[49m\u001b[34;43m__init__\u001b[39;49m\u001b[43m(\u001b[49m\u001b[43mllm_tool\u001b[49m\u001b[43m)\u001b[49m\n\u001b[32m     55\u001b[39m     \u001b[38;5;66;03m# self.function = LLMToolFunction.model_construct()\u001b[39;00m\n\u001b[32m     56\u001b[39m     properties, required = \u001b[38;5;28mself\u001b[39m.get_function_parameters()\n",
      "\u001b[31mTypeError\u001b[39m: BaseModel.__init__() takes 1 positional argument but 2 were given"
     ]
    }
   ],
   "source": [
    "llm_function = LLMToolFunction(name=\"name\", description=\"desc\")\n",
    "tt = TestTool(llm_tool=LLMTool(function=llm_function))"
   ]
  },
  {
   "cell_type": "code",
   "execution_count": 56,
   "id": "f083a29b-1300-486c-a238-4ad99bcfe376",
   "metadata": {},
   "outputs": [
    {
     "ename": "TypeError",
     "evalue": "BaseModel.__init__() takes 1 positional argument but 2 were given",
     "output_type": "error",
     "traceback": [
      "\u001b[31m---------------------------------------------------------------------------\u001b[39m",
      "\u001b[31mTypeError\u001b[39m                                 Traceback (most recent call last)",
      "\u001b[36mCell\u001b[39m\u001b[36m \u001b[39m\u001b[32mIn[56]\u001b[39m\u001b[32m, line 2\u001b[39m\n\u001b[32m      1\u001b[39m llm_function = LLMToolFunction(name=\u001b[33m'\u001b[39m\u001b[33mname\u001b[39m\u001b[33m'\u001b[39m, description=\u001b[33m'\u001b[39m\u001b[33mdesc\u001b[39m\u001b[33m'\u001b[39m)\n\u001b[32m----> \u001b[39m\u001b[32m2\u001b[39m tt = \u001b[43mTestTool\u001b[49m\u001b[43m(\u001b[49m\u001b[43mLLMTool\u001b[49m\u001b[43m(\u001b[49m\u001b[43mfunction\u001b[49m\u001b[43m=\u001b[49m\u001b[43mllm_function\u001b[49m\u001b[43m)\u001b[49m\u001b[43m)\u001b[49m\n",
      "\u001b[36mCell\u001b[39m\u001b[36m \u001b[39m\u001b[32mIn[50]\u001b[39m\u001b[32m, line 53\u001b[39m, in \u001b[36mTestTool.__init__\u001b[39m\u001b[34m(self, llm_tool)\u001b[39m\n\u001b[32m     52\u001b[39m \u001b[38;5;28;01mdef\u001b[39;00m\u001b[38;5;250m \u001b[39m\u001b[34m__init__\u001b[39m(\u001b[38;5;28mself\u001b[39m, llm_tool: LLMTool):\n\u001b[32m---> \u001b[39m\u001b[32m53\u001b[39m     \u001b[38;5;28;43msuper\u001b[39;49m\u001b[43m(\u001b[49m\u001b[43m)\u001b[49m\u001b[43m.\u001b[49m\u001b[34;43m__init__\u001b[39;49m\u001b[43m(\u001b[49m\u001b[43mllm_tool\u001b[49m\u001b[43m)\u001b[49m\n\u001b[32m     55\u001b[39m     \u001b[38;5;66;03m# self.function = LLMToolFunction.model_construct()\u001b[39;00m\n\u001b[32m     56\u001b[39m     properties, required = \u001b[38;5;28mself\u001b[39m.get_function_parameters()\n",
      "\u001b[31mTypeError\u001b[39m: BaseModel.__init__() takes 1 positional argument but 2 were given"
     ]
    }
   ],
   "source": [
    "llm_function = LLMToolFunction(name=\"name\", description=\"desc\")\n",
    "tt = TestTool(LLMTool(function=llm_function))"
   ]
  },
  {
   "cell_type": "code",
   "execution_count": 29,
   "id": "84162f7a-59c2-4ce2-a48b-51c21544f76d",
   "metadata": {},
   "outputs": [],
   "source": [
    "t = LLMTool(function={\"name\": \"name\", \"description\": \"desc\"})"
   ]
  },
  {
   "cell_type": "code",
   "execution_count": 43,
   "id": "0768e1a1-b74b-48d6-a234-ca9637aa84cc",
   "metadata": {},
   "outputs": [
    {
     "ename": "ValidationError",
     "evalue": "1 validation error for LLMTool\nfunction.parameters\n  Field required [type=missing, input_value={'name': 'name', 'description': 'desc'}, input_type=dict]\n    For further information visit https://errors.pydantic.dev/2.11/v/missing",
     "output_type": "error",
     "traceback": [
      "\u001b[31m---------------------------------------------------------------------------\u001b[39m",
      "\u001b[31mValidationError\u001b[39m                           Traceback (most recent call last)",
      "\u001b[36mCell\u001b[39m\u001b[36m \u001b[39m\u001b[32mIn[43]\u001b[39m\u001b[32m, line 1\u001b[39m\n\u001b[32m----> \u001b[39m\u001b[32m1\u001b[39m tt = TestTool(\u001b[43mLLMTool\u001b[49m\u001b[43m(\u001b[49m\u001b[43mfunction\u001b[49m\u001b[43m=\u001b[49m\u001b[43m{\u001b[49m\u001b[33;43m\"\u001b[39;49m\u001b[33;43mname\u001b[39;49m\u001b[33;43m\"\u001b[39;49m\u001b[43m:\u001b[49m\u001b[33;43m'\u001b[39;49m\u001b[33;43mname\u001b[39;49m\u001b[33;43m'\u001b[39;49m\u001b[43m,\u001b[49m\u001b[33;43m'\u001b[39;49m\u001b[33;43mdescription\u001b[39;49m\u001b[33;43m'\u001b[39;49m\u001b[43m:\u001b[49m\u001b[33;43m'\u001b[39;49m\u001b[33;43mdesc\u001b[39;49m\u001b[33;43m'\u001b[39;49m\u001b[43m}\u001b[49m\u001b[43m)\u001b[49m)\n",
      "\u001b[36mFile \u001b[39m\u001b[32m~/Desktop/Code/myspace/LLM-cookbook/.venv/lib/python3.12/site-packages/pydantic/main.py:253\u001b[39m, in \u001b[36mBaseModel.__init__\u001b[39m\u001b[34m(self, **data)\u001b[39m\n\u001b[32m    251\u001b[39m \u001b[38;5;66;03m# `__tracebackhide__` tells pytest and some other tools to omit this function from tracebacks\u001b[39;00m\n\u001b[32m    252\u001b[39m __tracebackhide__ = \u001b[38;5;28;01mTrue\u001b[39;00m\n\u001b[32m--> \u001b[39m\u001b[32m253\u001b[39m validated_self = \u001b[38;5;28;43mself\u001b[39;49m\u001b[43m.\u001b[49m\u001b[43m__pydantic_validator__\u001b[49m\u001b[43m.\u001b[49m\u001b[43mvalidate_python\u001b[49m\u001b[43m(\u001b[49m\u001b[43mdata\u001b[49m\u001b[43m,\u001b[49m\u001b[43m \u001b[49m\u001b[43mself_instance\u001b[49m\u001b[43m=\u001b[49m\u001b[38;5;28;43mself\u001b[39;49m\u001b[43m)\u001b[49m\n\u001b[32m    254\u001b[39m \u001b[38;5;28;01mif\u001b[39;00m \u001b[38;5;28mself\u001b[39m \u001b[38;5;129;01mis\u001b[39;00m \u001b[38;5;129;01mnot\u001b[39;00m validated_self:\n\u001b[32m    255\u001b[39m     warnings.warn(\n\u001b[32m    256\u001b[39m         \u001b[33m'\u001b[39m\u001b[33mA custom validator is returning a value other than `self`.\u001b[39m\u001b[38;5;130;01m\\n\u001b[39;00m\u001b[33m'\u001b[39m\n\u001b[32m    257\u001b[39m         \u001b[33m\"\u001b[39m\u001b[33mReturning anything other than `self` from a top level model validator isn\u001b[39m\u001b[33m'\u001b[39m\u001b[33mt supported when validating via `__init__`.\u001b[39m\u001b[38;5;130;01m\\n\u001b[39;00m\u001b[33m\"\u001b[39m\n\u001b[32m    258\u001b[39m         \u001b[33m'\u001b[39m\u001b[33mSee the `model_validator` docs (https://docs.pydantic.dev/latest/concepts/validators/#model-validators) for more details.\u001b[39m\u001b[33m'\u001b[39m,\n\u001b[32m    259\u001b[39m         stacklevel=\u001b[32m2\u001b[39m,\n\u001b[32m    260\u001b[39m     )\n",
      "\u001b[31mValidationError\u001b[39m: 1 validation error for LLMTool\nfunction.parameters\n  Field required [type=missing, input_value={'name': 'name', 'description': 'desc'}, input_type=dict]\n    For further information visit https://errors.pydantic.dev/2.11/v/missing"
     ]
    }
   ],
   "source": [
    "tt = TestTool(LLMTool(function={\"name\": \"name\", \"description\": \"desc\"}))"
   ]
  },
  {
   "cell_type": "code",
   "execution_count": null,
   "id": "165c790b-a5d9-45a9-82c0-f93969e2aa7b",
   "metadata": {},
   "outputs": [],
   "source": []
  },
  {
   "cell_type": "code",
   "execution_count": null,
   "id": "88691202-85d8-4bc7-991f-b7c73ba42647",
   "metadata": {},
   "outputs": [],
   "source": []
  },
  {
   "cell_type": "code",
   "execution_count": null,
   "id": "fa0a2f39-cbca-42dc-a8ee-3dd1d6d0b227",
   "metadata": {},
   "outputs": [],
   "source": []
  },
  {
   "cell_type": "code",
   "execution_count": 191,
   "id": "15d1193d-50c4-4184-a29e-0552d876e35b",
   "metadata": {},
   "outputs": [],
   "source": [
    "import functools\n",
    "import inspect\n",
    "import json\n",
    "from collections.abc import Callable\n",
    "from typing import Any, get_type_hints\n",
    "\n",
    "from pydantic import BaseModel, create_model\n",
    "\n",
    "\n",
    "class Tool:\n",
    "    \"\"\"Base class for LLM tools.\"\"\"\n",
    "\n",
    "    def __init__(\n",
    "        self,\n",
    "        name: str,\n",
    "        description: str,\n",
    "        parameters_model: type[BaseModel],\n",
    "        function: Callable,\n",
    "    ):\n",
    "        self.name = name\n",
    "        self.description = description\n",
    "        self.parameters_model = parameters_model\n",
    "        self.function = function\n",
    "\n",
    "    def __call__(self, **kwargs):\n",
    "        \"\"\"Execute the tool with validated parameters.\"\"\"\n",
    "        # Validate paratool_call.function.argumentsmeters\n",
    "        validated_params = self.parameters_model(**kwargs)\n",
    "        # Call the function with validated parameters\n",
    "        return self.function(**validated_params.model_dump())\n",
    "\n",
    "    def to_openai_schema(self) -> dict[str, Any]:\n",
    "        \"\"\"Convert the tool to OpenAI's function calling format.\"\"\"\n",
    "        schema = self.parameters_model.model_json_schema()\n",
    "\n",
    "        # OpenAI expects a specific format\n",
    "        return {\n",
    "            \"type\": \"function\",\n",
    "            \"function\": {\n",
    "                \"name\": self.name,\n",
    "                \"description\": self.description,\n",
    "                \"parameters\": schema,\n",
    "            },\n",
    "        }\n",
    "\n",
    "    @classmethod\n",
    "    def from_function(\n",
    "        cls,\n",
    "        function: Callable,\n",
    "        name: str | None = None,\n",
    "        description: str | None = None,\n",
    "    ) -> \"Tool\":\n",
    "        \"\"\"Create a tool from a function with type hints.\"\"\"\n",
    "        if name is None:\n",
    "            name = function.__name__\n",
    "\n",
    "        if description is None:\n",
    "            description = function.__doc__ or f\"Tool for {name}\"\n",
    "\n",
    "        # Get type hints from the function\n",
    "        hints = get_type_hints(function)\n",
    "        signature = inspect.signature(function)\n",
    "\n",
    "        # Create field definitions for Pydantic model\n",
    "        fields = {}\n",
    "        for param_name, param in signature.parameters.items():\n",
    "            param_type = hints.get(param_name, Any)\n",
    "            default = ... if param.default is inspect.Parameter.empty else param.default\n",
    "            fields[param_name] = (param_type, default)\n",
    "\n",
    "        # Create a Pydantic model for parameters\n",
    "        parameters_model = create_model(f\"{name.capitalize()}Parameters\", **fields)\n",
    "\n",
    "        return cls(name, description, parameters_model, function)\n",
    "\n",
    "\n",
    "def create_tool(\n",
    "    name: str, description: str, parameters_model: type[BaseModel]\n",
    ") -> Callable[[Callable], Tool]:\n",
    "    \"\"\"Decorator to create a tool with a custom parameters model.\"\"\"\n",
    "\n",
    "    def decorator(func: Callable) -> Tool:\n",
    "        tool = Tool(name, description, parameters_model, func)\n",
    "        functools.update_wrapper(tool, func)\n",
    "        return tool\n",
    "\n",
    "    return decorator\n",
    "\n",
    "\n",
    "class ToolRegistry:\n",
    "    \"\"\"Registry to keep track of all tools.\"\"\"\n",
    "\n",
    "    def __init__(self):\n",
    "        self.tools: dict[str, Tool] = {}\n",
    "\n",
    "    def register(self, tool: Tool) -> Tool:\n",
    "        \"\"\"Register a tool in the registry.\"\"\"\n",
    "        self.tools[tool.name] = tool\n",
    "        return tool\n",
    "\n",
    "    def get_tool(self, name: str) -> Tool | None:\n",
    "        \"\"\"Get a tool by name.\"\"\"\n",
    "        return self.tools.get(name)\n",
    "\n",
    "    def list_tools(self) -> list[str]:\n",
    "        \"\"\"List all registered tool names.\"\"\"\n",
    "        return list(self.tools.keys())\n",
    "\n",
    "    def get_openai_schemas(self) -> list[dict[str, Any]]:\n",
    "        \"\"\"Get OpenAI schemas for all registered tools.\"\"\"\n",
    "        return [tool.to_openai_schema() for tool in self.tools.values()]\n",
    "\n",
    "\n",
    "# Create a global registry\n",
    "registry = ToolRegistry()\n",
    "\n",
    "\n",
    "def register_tool(\n",
    "    name: str | None = None,\n",
    "    description: str | None = None,\n",
    ") -> Callable[[Callable], Tool]:\n",
    "    \"\"\"Decorator to create and register a tool from a function.\"\"\"\n",
    "\n",
    "    def decorator(func: Callable) -> Tool:\n",
    "        tool = Tool.from_function(func, name, description)\n",
    "        registry.register(tool)\n",
    "        return tool\n",
    "\n",
    "    return decorator"
   ]
  },
  {
   "cell_type": "code",
   "execution_count": 192,
   "id": "0b44385b-54f7-4e61-a18f-4877a087d4dc",
   "metadata": {},
   "outputs": [],
   "source": [
    "@register_tool(description=\"Get the weather forecast for a location\")\n",
    "def get_weather(location: str, days: int = 3) -> list[dict]:\n",
    "    \"\"\"Get weather forecast for the specified location.\n",
    "\n",
    "    Args:\n",
    "        location: City name or coordinates\n",
    "        days: Number of days to forecast\n",
    "\n",
    "    Returns:\n",
    "        List of daily forecasts\n",
    "    \"\"\"\n",
    "    # Actual implementation would call a weather API\n",
    "    return [{\"day\": i, \"temp\": 70 + i, \"condition\": \"Sunny\"} for i in range(days)]"
   ]
  },
  {
   "cell_type": "code",
   "execution_count": 205,
   "id": "c1d4b003-eeca-416f-a0d3-da185fda0c6f",
   "metadata": {},
   "outputs": [
    {
     "data": {
      "text/plain": [
       "<__main__.Tool at 0x114f7a6f0>"
      ]
     },
     "execution_count": 205,
     "metadata": {},
     "output_type": "execute_result"
    }
   ],
   "source": [
    "from datetime import date\n",
    "\n",
    "from pydantic import BaseModel, Field\n",
    "\n",
    "\n",
    "class BookSearchParams(BaseModel):\n",
    "    query: str = Field(..., description=\"Search query for books\")\n",
    "    max_results: int = Field(10, description=\"Maximum number of results to return\")\n",
    "    published_after: date | None = Field(\n",
    "        None, description=\"Only return books published after this date\"\n",
    "    )\n",
    "\n",
    "\n",
    "@create_tool(\n",
    "    name=\"search_books\",\n",
    "    description=\"Search for books in the library database\",\n",
    "    parameters_model=BookSearchParams,\n",
    ")\n",
    "def search_books(\n",
    "    query: str, max_results: int = 10, published_after: date | None = None\n",
    ") -> list[dict]:\n",
    "    \"\"\"Implementation of book search functionality\"\"\"\n",
    "    # Actual implementation would search a database\n",
    "    return [{\"title\": f\"Book about {query}\", \"year\": 2023}]\n",
    "\n",
    "\n",
    "# Register the tool\n",
    "registry.register(search_books)"
   ]
  },
  {
   "cell_type": "code",
   "execution_count": 238,
   "id": "dc23175b-fc49-4543-b050-2230c29a09c7",
   "metadata": {},
   "outputs": [
    {
     "data": {
      "text/plain": [
       "<__main__.Tool at 0x1147504a0>"
      ]
     },
     "execution_count": 238,
     "metadata": {},
     "output_type": "execute_result"
    }
   ],
   "source": [
    "class SearchStockPrice(BaseModel):\n",
    "    name: str = Field(..., description=\"Search query for Stock name\")\n",
    "\n",
    "\n",
    "@create_tool(\n",
    "    name=\"search_stock_price\",\n",
    "    description=\"Search stock price from the database\",\n",
    "    parameters_model=SearchStockPrice,\n",
    ")\n",
    "def search_stock_price(name: str) -> str | int:\n",
    "    \"\"\"Implementation of stock price search functionality\"\"\"\n",
    "    if name in [\"AAPL\", \"TSM\"]:\n",
    "        return 100\n",
    "    else:\n",
    "        return f\"Stock {name} is not in our database.\"\n",
    "\n",
    "\n",
    "# Register the tool\n",
    "registry.register(search_stock_price)"
   ]
  },
  {
   "cell_type": "code",
   "execution_count": 259,
   "id": "f639f66e-8e1d-4609-a036-8b9d72e8a458",
   "metadata": {},
   "outputs": [],
   "source": [
    "sys_prompt = \"You are a helpful assistant that is able to privide info about stocks\"\n",
    "input_ = \"what is the stock price of AAPL?\"\n",
    "\n",
    "message_stack = [\n",
    "    Message(role=\"system\", content=sys_prompt),\n",
    "    Message(role=\"user\", content=input_),\n",
    "]\n",
    "\n",
    "llm_response1 = client.chat.completions.create(\n",
    "    messages=message_stack,\n",
    "    model=\"gpt-4o\",\n",
    "    tools=[search_stock_price.to_openai_schema()],\n",
    ")\n",
    "\n",
    "# message_stack.append(llm_response1.choices[0].message)\n",
    "# response_body = json.loads(send_request.to_json())"
   ]
  },
  {
   "cell_type": "code",
   "execution_count": 261,
   "id": "467b2f83-2878-40bb-9614-97ea2888f3d6",
   "metadata": {},
   "outputs": [],
   "source": [
    "message_stack.append(llm_response1.choices[0].message)\n",
    "# response_body = json.loads(send_request.to_json())"
   ]
  },
  {
   "cell_type": "code",
   "execution_count": 262,
   "id": "90301db9-34f7-4bd0-930b-c85968e3540c",
   "metadata": {},
   "outputs": [
    {
     "name": "stdout",
     "output_type": "stream",
     "text": [
      "Tool search_stock_price returned: 100\n"
     ]
    }
   ],
   "source": [
    "for tool_call in llm_response1.choices[0].message.tool_calls:\n",
    "    tool_name = tool_call.function.name\n",
    "    tool_args = json.loads(tool_call.function.arguments)\n",
    "\n",
    "    # Get and execute the tool\n",
    "    tool = registry.get_tool(tool_name)\n",
    "    if tool:\n",
    "        result = tool(**tool_args)\n",
    "        print(f\"Tool {tool_name} returned: {result}\")\n",
    "\n",
    "    message_stack.append(\n",
    "        Message(role=\"tool\", tool_call_id=tool_call.id, content=str(result))\n",
    "    )\n",
    "\n",
    "    #     {\n",
    "    #     \"role\": \"tool\",\n",
    "    #     \"tool_call_id\": tool_call.id,\n",
    "    #     \"content\": str(result)\n",
    "    # })"
   ]
  },
  {
   "cell_type": "code",
   "execution_count": 263,
   "id": "08718001-7ca5-4c64-9c73-79f4705144cc",
   "metadata": {},
   "outputs": [
    {
     "data": {
      "text/plain": [
       "[{'role': 'system',\n",
       "  'content': 'You are a helpful assistant that is able to privide info about stocks'},\n",
       " {'role': 'user', 'content': 'what is the stock price of AAPL?'},\n",
       " ChatCompletionMessage(content=None, refusal=None, role='assistant', annotations=[], audio=None, function_call=None, tool_calls=[ChatCompletionMessageToolCall(id='call_oFw5sB1x3k9qMnrVOA1pMHjv', function=Function(arguments='{\"name\":\"AAPL\"}', name='search_stock_price'), type='function')]),\n",
       " {'role': 'tool',\n",
       "  'tool_call_id': 'call_oFw5sB1x3k9qMnrVOA1pMHjv',\n",
       "  'content': '100'}]"
      ]
     },
     "execution_count": 263,
     "metadata": {},
     "output_type": "execute_result"
    }
   ],
   "source": [
    "message_stack"
   ]
  },
  {
   "cell_type": "code",
   "execution_count": 253,
   "id": "159d6e10-c869-4b19-a786-57e65798ab29",
   "metadata": {},
   "outputs": [
    {
     "data": {
      "text/plain": [
       "'call_BzysvPH8QOfn9g11cBDMG9MU'"
      ]
     },
     "execution_count": 253,
     "metadata": {},
     "output_type": "execute_result"
    }
   ],
   "source": [
    "tool_call.id"
   ]
  },
  {
   "cell_type": "code",
   "execution_count": 264,
   "id": "78a486ae-45dc-47ca-8211-0efb0071f2f8",
   "metadata": {},
   "outputs": [
    {
     "data": {
      "text/plain": [
       "ChatCompletionMessage(content='The stock price of AAPL is $100.', refusal=None, role='assistant', annotations=[], audio=None, function_call=None, tool_calls=None)"
      ]
     },
     "execution_count": 264,
     "metadata": {},
     "output_type": "execute_result"
    }
   ],
   "source": [
    "send_request = client.chat.completions.create(\n",
    "    messages=message_stack,\n",
    "    model=\"gpt-4o\",\n",
    "    tools=[search_stock_price.to_openai_schema()],\n",
    ")\n",
    "send_request.choices[0].message"
   ]
  },
  {
   "cell_type": "code",
   "execution_count": 235,
   "id": "ea159589-2926-46d2-ab1f-b610923d2bd0",
   "metadata": {},
   "outputs": [
    {
     "data": {
      "text/plain": [
       "'{\"name\":\"AAPL\"}'"
      ]
     },
     "execution_count": 235,
     "metadata": {},
     "output_type": "execute_result"
    }
   ],
   "source": [
    "tool_call.function.arguments"
   ]
  },
  {
   "cell_type": "code",
   "execution_count": 236,
   "id": "691150cc-e338-4057-8726-35b43327dc5d",
   "metadata": {},
   "outputs": [
    {
     "data": {
      "text/plain": [
       "'search_stock_price'"
      ]
     },
     "execution_count": 236,
     "metadata": {},
     "output_type": "execute_result"
    }
   ],
   "source": [
    "tool_call.function.name"
   ]
  },
  {
   "cell_type": "code",
   "execution_count": 237,
   "id": "c7b3597a-d111-4bb9-ba1d-65ef0dcad49e",
   "metadata": {},
   "outputs": [
    {
     "ename": "TypeError",
     "evalue": "'str' object is not callable",
     "output_type": "error",
     "traceback": [
      "\u001b[31m---------------------------------------------------------------------------\u001b[39m",
      "\u001b[31mTypeError\u001b[39m                                 Traceback (most recent call last)",
      "\u001b[36mCell\u001b[39m\u001b[36m \u001b[39m\u001b[32mIn[237]\u001b[39m\u001b[32m, line 1\u001b[39m\n\u001b[32m----> \u001b[39m\u001b[32m1\u001b[39m exec(\u001b[43mtool_call\u001b[49m\u001b[43m.\u001b[49m\u001b[43mfunction\u001b[49m\u001b[43m.\u001b[49m\u001b[43mname\u001b[49m\u001b[43m(\u001b[49m\u001b[43mtool_call\u001b[49m\u001b[43m.\u001b[49m\u001b[43mfunction\u001b[49m\u001b[43m.\u001b[49m\u001b[43marguments\u001b[49m\u001b[43m)\u001b[49m)\n",
      "\u001b[31mTypeError\u001b[39m: 'str' object is not callable"
     ]
    }
   ],
   "source": [
    "exec(tool_call.function.name(tool_call.function.arguments))"
   ]
  },
  {
   "cell_type": "code",
   "execution_count": 225,
   "id": "a5d1a3dd-e255-4312-b229-1e47c11eec4f",
   "metadata": {},
   "outputs": [
    {
     "data": {
      "text/plain": [
       "100"
      ]
     },
     "execution_count": 225,
     "metadata": {},
     "output_type": "execute_result"
    }
   ],
   "source": [
    "search_stock_price(**{\"name\": \"AAPL\"})"
   ]
  },
  {
   "cell_type": "code",
   "execution_count": 220,
   "id": "2d6f483c-fda0-46ce-8a75-16f558115cd8",
   "metadata": {},
   "outputs": [
    {
     "data": {
      "text/plain": [
       "Choice(finish_reason='tool_calls', index=0, logprobs=None, message=ChatCompletionMessage(content=None, refusal=None, role='assistant', annotations=[], audio=None, function_call=None, tool_calls=[ChatCompletionMessageToolCall(id='call_hop2U32mfJKIyKOSD7Vti5X3', function=Function(arguments='{\"name\":\"AAPL\"}', name='search_stock_price'), type='function')]), content_filter_results={})"
      ]
     },
     "execution_count": 220,
     "metadata": {},
     "output_type": "execute_result"
    }
   ],
   "source": [
    "send_request.choices[0]"
   ]
  },
  {
   "cell_type": "code",
   "execution_count": 214,
   "id": "79e0196b-f368-4db8-bcbd-41b0686fb7ae",
   "metadata": {},
   "outputs": [
    {
     "data": {
      "text/plain": [
       "{'id': 'chatcmpl-BUGYXfcmcP0c2B9lBXXH39xaQ7ff2',\n",
       " 'choices': [{'finish_reason': 'tool_calls',\n",
       "   'index': 0,\n",
       "   'logprobs': None,\n",
       "   'message': {'content': None,\n",
       "    'refusal': None,\n",
       "    'role': 'assistant',\n",
       "    'annotations': [],\n",
       "    'tool_calls': [{'id': 'call_hop2U32mfJKIyKOSD7Vti5X3',\n",
       "      'function': {'arguments': '{\"name\":\"AAPL\"}',\n",
       "       'name': 'search_stock_price'},\n",
       "      'type': 'function'}]},\n",
       "   'content_filter_results': {}}],\n",
       " 'created': 1746553181,\n",
       " 'model': 'gpt-4o-2024-11-20',\n",
       " 'object': 'chat.completion',\n",
       " 'system_fingerprint': 'fp_ee1d74bde0',\n",
       " 'usage': {'completion_tokens': 17,\n",
       "  'prompt_tokens': 84,\n",
       "  'total_tokens': 101,\n",
       "  'completion_tokens_details': {'accepted_prediction_tokens': 0,\n",
       "   'audio_tokens': 0,\n",
       "   'reasoning_tokens': 0,\n",
       "   'rejected_prediction_tokens': 0},\n",
       "  'prompt_tokens_details': {'audio_tokens': 0, 'cached_tokens': 0}},\n",
       " 'prompt_filter_results': [{'prompt_index': 0,\n",
       "   'content_filter_results': {'hate': {'filtered': False, 'severity': 'safe'},\n",
       "    'jailbreak': {'filtered': False, 'detected': False},\n",
       "    'self_harm': {'filtered': False, 'severity': 'safe'},\n",
       "    'sexual': {'filtered': False, 'severity': 'safe'},\n",
       "    'violence': {'filtered': False, 'severity': 'safe'}}}]}"
      ]
     },
     "execution_count": 214,
     "metadata": {},
     "output_type": "execute_result"
    }
   ],
   "source": [
    "response_body"
   ]
  },
  {
   "cell_type": "code",
   "execution_count": 196,
   "id": "b49f6dd9-9ea4-481a-8c34-c05ffeb67491",
   "metadata": {},
   "outputs": [
    {
     "data": {
      "text/plain": [
       "{'get_weather': <__main__.Tool at 0x114f17020>,\n",
       " 'search_books': <__main__.Tool at 0x114f16c60>}"
      ]
     },
     "execution_count": 196,
     "metadata": {},
     "output_type": "execute_result"
    }
   ],
   "source": [
    "registry.tools"
   ]
  },
  {
   "cell_type": "code",
   "execution_count": 200,
   "id": "3a8442b4-261e-4a40-98f7-a08fabd484f0",
   "metadata": {},
   "outputs": [
    {
     "data": {
      "text/plain": [
       "{'type': 'function',\n",
       " 'function': {'name': 'get_weather',\n",
       "  'description': 'Get the weather forecast for a location',\n",
       "  'parameters': {'properties': {'location': {'title': 'Location',\n",
       "     'type': 'string'},\n",
       "    'days': {'default': 3, 'title': 'Days', 'type': 'integer'}},\n",
       "   'required': ['location'],\n",
       "   'title': 'Get_weatherParameters',\n",
       "   'type': 'object'}}}"
      ]
     },
     "execution_count": 200,
     "metadata": {},
     "output_type": "execute_result"
    }
   ],
   "source": [
    "registry.tools[\"get_weather\"].to_openai_schema()"
   ]
  },
  {
   "cell_type": "code",
   "execution_count": null,
   "id": "69facbab-4ca4-47b1-9c46-574c1c243bb6",
   "metadata": {},
   "outputs": [],
   "source": []
  }
 ],
 "metadata": {
  "kernelspec": {
   "display_name": "Python 3 (ipykernel)",
   "language": "python",
   "name": "python3"
  },
  "language_info": {
   "codemirror_mode": {
    "name": "ipython",
    "version": 3
   },
   "file_extension": ".py",
   "mimetype": "text/x-python",
   "name": "python",
   "nbconvert_exporter": "python",
   "pygments_lexer": "ipython3",
   "version": "3.12.9"
  }
 },
 "nbformat": 4,
 "nbformat_minor": 5
}

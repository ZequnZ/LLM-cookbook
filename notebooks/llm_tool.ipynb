{
 "cells": [
  {
   "cell_type": "markdown",
   "id": "402347a9-45fb-4e6b-9832-5668925550e9",
   "metadata": {},
   "source": [
    "# Use tool to enable LLM to take actions when needed\n",
    "\n",
    "ref: https://platform.openai.com/docs/guides/function-calling?api-mode=responses"
   ]
  },
  {
   "cell_type": "code",
   "execution_count": 1,
   "id": "5920c221-1d0f-48fc-b3bd-49f06d223e43",
   "metadata": {},
   "outputs": [],
   "source": [
    "from llm_cookbook.utils.get_client import openai_client\n",
    "from llm_cookbook.utils.tool_creation import create_tool, registry\n",
    "\n",
    "%load_ext autoreload\n",
    "%autoreload 2"
   ]
  },
  {
   "cell_type": "code",
   "execution_count": 16,
   "id": "e830ea6c-a433-405e-857c-8409c3b72fa7",
   "metadata": {},
   "outputs": [],
   "source": [
    "import json\n",
    "\n",
    "from pydantic import BaseModel, Field"
   ]
  },
  {
   "cell_type": "code",
   "execution_count": 6,
   "id": "4b5f6b40-3591-4e4d-9968-b9e4af0e5f5d",
   "metadata": {},
   "outputs": [
    {
     "data": {
      "text/plain": [
       "<llm_cookbook.utils.tool_creation.Tool at 0x1162d6fc0>"
      ]
     },
     "execution_count": 6,
     "metadata": {},
     "output_type": "execute_result"
    }
   ],
   "source": [
    "# Tool parameter\n",
    "class SearchStockPrice(BaseModel):\n",
    "    name: str = Field(..., description=\"Search query for Stock name\")\n",
    "\n",
    "\n",
    "# Create tool function\n",
    "@create_tool(\n",
    "    name=\"search_stock_price\",\n",
    "    description=\"Search stock price from the database\",\n",
    "    parameters_model=SearchStockPrice,\n",
    ")\n",
    "def search_stock_price(name: str) -> str | int:\n",
    "    \"\"\"Implementation of stock price search functionality\"\"\"\n",
    "    if name in [\"AAPL\", \"TSM\"]:\n",
    "        return 100\n",
    "    else:\n",
    "        return f\"Stock {name} is not in our database.\"\n",
    "\n",
    "\n",
    "# Register the tool\n",
    "registry.register(search_stock_price)"
   ]
  },
  {
   "cell_type": "code",
   "execution_count": 8,
   "id": "4074c311-96a9-4a56-b1c1-f1bb4b837d40",
   "metadata": {},
   "outputs": [],
   "source": [
    "sys_prompt = \"You are a helpful assistant that is able to privide info about stocks\"\n",
    "input_ = \"what is the stock price of AAPL?\"\n",
    "\n",
    "message_stack = [\n",
    "    {\"role\": \"system\", \"content\": sys_prompt},\n",
    "    {\"role\": \"user\", \"content\": input_},\n",
    "]\n",
    "\n",
    "\n",
    "# Call the llm to get response\n",
    "response1 = openai_client.chat.completions.create(\n",
    "    messages=message_stack,\n",
    "    model=\"gpt-4o\",\n",
    "    tools=[search_stock_price.to_openai_schema()],\n",
    ")"
   ]
  },
  {
   "cell_type": "code",
   "execution_count": 11,
   "id": "1fe8a683-26fc-4bcf-b714-1f2712a95994",
   "metadata": {},
   "outputs": [
    {
     "name": "stdout",
     "output_type": "stream",
     "text": [
      "Finish reason: tool_calls\n"
     ]
    }
   ],
   "source": [
    "# Finish reason\n",
    "print(f\"Finish reason: {response1.choices[0].finish_reason}\")"
   ]
  },
  {
   "cell_type": "code",
   "execution_count": 14,
   "id": "ac77462d-26f0-4999-b607-228ca482993b",
   "metadata": {},
   "outputs": [
    {
     "data": {
      "text/plain": [
       "ChatCompletionMessage(content=None, refusal=None, role='assistant', annotations=[], audio=None, function_call=None, tool_calls=[ChatCompletionMessageToolCall(id='call_c7v6ix9i55XzyjjTq2gG2I8n', function=Function(arguments='{\"name\":\"AAPL\"}', name='search_stock_price'), type='function')])"
      ]
     },
     "execution_count": 14,
     "metadata": {},
     "output_type": "execute_result"
    }
   ],
   "source": [
    "# message concent is none\n",
    "# but tool_calls contains info\n",
    "response1.choices[0].message"
   ]
  },
  {
   "cell_type": "code",
   "execution_count": 24,
   "id": "d5072214-93cd-4588-a2ee-b89169ef92ad",
   "metadata": {},
   "outputs": [
    {
     "name": "stdout",
     "output_type": "stream",
     "text": [
      "Tool search_stock_price returned: 100\n"
     ]
    }
   ],
   "source": [
    "for tool_call in response1.choices[0].message.tool_calls:\n",
    "    # Add message into stack\n",
    "    message_stack.append(response1.choices[0].message)\n",
    "\n",
    "    # Get function name & parameters\n",
    "    tool_name = tool_call.function.name\n",
    "    tool_args = json.loads(tool_call.function.arguments)\n",
    "\n",
    "    # execute the tool\n",
    "    tool = registry.get_tool(tool_name)\n",
    "    if tool:\n",
    "        result = tool(**tool_args)\n",
    "        print(f\"Tool {tool_name} returned: {result}\")\n",
    "\n",
    "    # Add result from tool into stack\n",
    "    message_stack.append(\n",
    "        {\n",
    "            \"role\": \"tool\",\n",
    "            \"tool_call_id\": tool_call.id,\n",
    "            \"content\": str(result),\n",
    "        }\n",
    "    )\n",
    "\n",
    "# Then call LLM again\n",
    "response2 = openai_client.chat.completions.create(\n",
    "    messages=message_stack,\n",
    "    model=\"gpt-4o\",\n",
    "    tools=[search_stock_price.to_openai_schema()],\n",
    ")"
   ]
  },
  {
   "cell_type": "code",
   "execution_count": 25,
   "id": "ffa501e3-4fdf-40bd-936b-c8d66d397a34",
   "metadata": {},
   "outputs": [
    {
     "name": "stdout",
     "output_type": "stream",
     "text": [
      "Finish reason: stop\n"
     ]
    },
    {
     "data": {
      "text/plain": [
       "ChatCompletionMessage(content='The stock price of AAPL is $100.', refusal=None, role='assistant', annotations=[], audio=None, function_call=None, tool_calls=None)"
      ]
     },
     "execution_count": 25,
     "metadata": {},
     "output_type": "execute_result"
    }
   ],
   "source": [
    "# Finish reason\n",
    "print(f\"Finish reason: {response2.choices[0].finish_reason}\")\n",
    "\n",
    "response2.choices[0].message"
   ]
  },
  {
   "cell_type": "code",
   "execution_count": 27,
   "id": "17cb6f11-1219-4968-9780-ce4e841befd0",
   "metadata": {},
   "outputs": [
    {
     "data": {
      "text/plain": [
       "[{'role': 'system',\n",
       "  'content': 'You are a helpful assistant that is able to privide info about stocks'},\n",
       " {'role': 'user', 'content': 'what is the stock price of AAPL?'},\n",
       " ChatCompletionMessage(content=None, refusal=None, role='assistant', annotations=[], audio=None, function_call=None, tool_calls=[ChatCompletionMessageToolCall(id='call_c7v6ix9i55XzyjjTq2gG2I8n', function=Function(arguments='{\"name\":\"AAPL\"}', name='search_stock_price'), type='function')]),\n",
       " {'role': 'tool',\n",
       "  'tool_call_id': 'call_c7v6ix9i55XzyjjTq2gG2I8n',\n",
       "  'content': '100'}]"
      ]
     },
     "execution_count": 27,
     "metadata": {},
     "output_type": "execute_result"
    }
   ],
   "source": [
    "# check the message stack\n",
    "message_stack"
   ]
  },
  {
   "cell_type": "code",
   "execution_count": 29,
   "id": "fbeedf83-48d3-4bc4-8e96-4e356530475f",
   "metadata": {},
   "outputs": [
    {
     "name": "stdout",
     "output_type": "stream",
     "text": [
      "The capital of Greece is **Athens**.\n"
     ]
    }
   ],
   "source": [
    "# Try out one more example\n",
    "sys_prompt = \"You are a helpful assistant that is able to privide info about stocks\"\n",
    "input_ = \"what is the captial of Greece\"\n",
    "\n",
    "message_stack = [\n",
    "    {\"role\": \"system\", \"content\": sys_prompt},\n",
    "    {\"role\": \"user\", \"content\": input_},\n",
    "]\n",
    "\n",
    "\n",
    "# Call the llm to get response\n",
    "response1 = openai_client.chat.completions.create(\n",
    "    messages=message_stack,\n",
    "    model=\"gpt-4o\",\n",
    "    tools=[search_stock_price.to_openai_schema()],\n",
    ")\n",
    "\n",
    "# No need to run the tool\n",
    "print(response1.choices[0].message.content)"
   ]
  },
  {
   "cell_type": "markdown",
   "id": "41b1b613-a30f-499a-b641-f0dcf3f0c792",
   "metadata": {},
   "source": [
    "---"
   ]
  }
 ],
 "metadata": {
  "kernelspec": {
   "display_name": "Python 3 (ipykernel)",
   "language": "python",
   "name": "python3"
  },
  "language_info": {
   "codemirror_mode": {
    "name": "ipython",
    "version": 3
   },
   "file_extension": ".py",
   "mimetype": "text/x-python",
   "name": "python",
   "nbconvert_exporter": "python",
   "pygments_lexer": "ipython3",
   "version": "3.12.9"
  }
 },
 "nbformat": 4,
 "nbformat_minor": 5
}

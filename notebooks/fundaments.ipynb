{
 "cells": [
  {
   "cell_type": "markdown",
   "id": "1272f70f-b95b-4e52-816a-88c6432e7be2",
   "metadata": {},
   "source": [
    "# Fundaments\n",
    "\n",
    "Calling LLM using Python"
   ]
  },
  {
   "cell_type": "code",
   "execution_count": 35,
   "id": "d709e49e-3bbf-4a57-8d63-b3ed4e89050c",
   "metadata": {},
   "outputs": [
    {
     "name": "stdout",
     "output_type": "stream",
     "text": [
      "The autoreload extension is already loaded. To reload it, use:\n",
      "  %reload_ext autoreload\n"
     ]
    }
   ],
   "source": [
    "from llm_cookbook.utils.get_client import openai_client\n",
    "\n",
    "%load_ext autoreload\n",
    "%autoreload 2"
   ]
  },
  {
   "cell_type": "markdown",
   "id": "fa323602-f6c3-4c3b-8c25-6a5ac7b27b19",
   "metadata": {},
   "source": [
    "# Call a normal LLM with chat completions API"
   ]
  },
  {
   "cell_type": "code",
   "execution_count": 2,
   "id": "93b5ffc2-ebb9-4603-a746-e19f22ba1cfe",
   "metadata": {},
   "outputs": [],
   "source": [
    "sys_prompt = \"You are a helpful assistant that knows about history\"\n",
    "input_ = \"Tell me how to make a Omelette in 3 sentences\"\n",
    "\n",
    "message_stack = [\n",
    "    {\"role\": \"system\", \"content\": sys_prompt},\n",
    "    {\"role\": \"user\", \"content\": input_},\n",
    "]\n",
    "\n",
    "response = openai_client.chat.completions.create(messages=message_stack, model=\"gpt-4o\")"
   ]
  },
  {
   "cell_type": "code",
   "execution_count": 4,
   "id": "dc98e368-aecc-47fe-865d-2e2e610287a2",
   "metadata": {},
   "outputs": [
    {
     "name": "stdout",
     "output_type": "stream",
     "text": [
      "Sure!  \n",
      "\n",
      "1. Crack 2–3 eggs into a bowl, whisk them well with a pinch of salt and pepper, and optionally mix in ingredients like cheese, herbs, or chopped vegetables.  \n",
      "2. Heat a nonstick pan over medium heat, add butter or oil, and pour the eggs into the pan, spreading them evenly.  \n",
      "3. Cook until the edges set, fold or roll the omelette gently in half, and serve warm!  \n"
     ]
    }
   ],
   "source": [
    "# Check out the message content\n",
    "\n",
    "print(response.choices[0].message.content)"
   ]
  },
  {
   "cell_type": "code",
   "execution_count": 5,
   "id": "468b7514-7f37-434e-b882-ca5ddbbfe95a",
   "metadata": {},
   "outputs": [
    {
     "data": {
      "text/plain": [
       "ChatCompletionMessage(content='Sure!  \\n\\n1. Crack 2–3 eggs into a bowl, whisk them well with a pinch of salt and pepper, and optionally mix in ingredients like cheese, herbs, or chopped vegetables.  \\n2. Heat a nonstick pan over medium heat, add butter or oil, and pour the eggs into the pan, spreading them evenly.  \\n3. Cook until the edges set, fold or roll the omelette gently in half, and serve warm!  ', refusal=None, role='assistant', annotations=[], audio=None, function_call=None, tool_calls=None)"
      ]
     },
     "execution_count": 5,
     "metadata": {},
     "output_type": "execute_result"
    }
   ],
   "source": [
    "# Understand the whole message\n",
    "\n",
    "response.choices[0].message"
   ]
  },
  {
   "cell_type": "markdown",
   "id": "2e3a0c73-ce8c-440d-9136-f2e6d29065f2",
   "metadata": {},
   "source": [
    "# Call a reasoning LLM with chat completions API"
   ]
  },
  {
   "cell_type": "code",
   "execution_count": 2,
   "id": "3d83f35e-efdd-4490-83ff-1d91927daa7c",
   "metadata": {},
   "outputs": [],
   "source": [
    "sys_prompt = \"You are a helpful assistant that knows about history\"\n",
    "input_ = \"Tell me how to make a Omelette in 3 sentences\"\n",
    "\n",
    "message_stack = [\n",
    "    {\"role\": \"system\", \"content\": sys_prompt},\n",
    "    {\"role\": \"user\", \"content\": input_},\n",
    "]\n",
    "\n",
    "response = openai_client.chat.completions.create(\n",
    "    messages=message_stack, model=\"o4-mini\"\n",
    ")"
   ]
  },
  {
   "cell_type": "code",
   "execution_count": 3,
   "id": "4bcd4a9c-cc48-4d0e-957c-b548e57c0c71",
   "metadata": {},
   "outputs": [
    {
     "name": "stdout",
     "output_type": "stream",
     "text": [
      "Crack two or three eggs into a bowl, season with a pinch of salt and pepper, and whisk until the mixture is smooth and slightly frothy. Heat a small knob of butter or a teaspoon of oil in a nonstick skillet over medium heat, pour in the eggs, and gently swirl the pan or stir with a spatula until the edges begin to set. Sprinkle in cheese, herbs, or other fillings, fold the omelette in half, let it cook for another 30 seconds, then slide it onto a plate. \n",
      "\n",
      "model: o4-mini\n"
     ]
    }
   ],
   "source": [
    "# Check out the message content -> cannot see the reasoning part here\n",
    "\n",
    "print(response.choices[0].message.content, \"\\n\")\n",
    "\n",
    "print(\"model:\", response.model)"
   ]
  },
  {
   "cell_type": "code",
   "execution_count": 12,
   "id": "22dc58d9-e750-46a7-9572-2681006491ad",
   "metadata": {},
   "outputs": [
    {
     "data": {
      "text/plain": [
       "ChatCompletionMessage(content='Beat 2–3 eggs with a pinch of salt and pepper in a bowl, then heat a little butter in a nonstick pan over medium heat. Pour the eggs into the pan and, as they start to set, gently lift the edges so that the uncooked egg can flow underneath; when mostly cooked, add any fillings you enjoy and fold the omelette in half. This simple yet elegant dish, with its roots in French cuisine, has evolved over centuries into a versatile meal enjoyed around the world.', refusal=None, role='assistant', annotations=[], audio=None, function_call=None, tool_calls=None)"
      ]
     },
     "execution_count": 12,
     "metadata": {},
     "output_type": "execute_result"
    }
   ],
   "source": [
    "# Understand the whole message\n",
    "\n",
    "response.choices[0].message"
   ]
  },
  {
   "cell_type": "markdown",
   "id": "5ecdce4e-e56b-4790-90c1-c1486e98bf85",
   "metadata": {},
   "source": [
    "# Call a normal LLM with response API"
   ]
  },
  {
   "cell_type": "code",
   "execution_count": 5,
   "id": "69e0c1a3-af48-4f16-862e-6b2400aff192",
   "metadata": {},
   "outputs": [],
   "source": [
    "sys_prompt = \"You are a helpful assistant that knows about history\"\n",
    "input_ = \"Tell me how to make a Omelette in 3 sentences\"\n",
    "\n",
    "message_stack = [\n",
    "    {\"role\": \"system\", \"content\": sys_prompt},\n",
    "    {\"role\": \"user\", \"content\": input_},\n",
    "]\n",
    "\n",
    "response = openai_client.responses.create(input=message_stack, model=\"gpt-4o\")"
   ]
  },
  {
   "cell_type": "code",
   "execution_count": 6,
   "id": "a9c3f287-0e2c-4fc6-8d9d-72e7e757007f",
   "metadata": {},
   "outputs": [
    {
     "name": "stdout",
     "output_type": "stream",
     "text": [
      "To make an omelette, crack 2-3 eggs into a bowl, whisk them together with a pinch of salt and pepper, and optionally add milk for a fluffier texture. Heat a non-stick skillet with a small amount of butter or oil, then pour the egg mixture into the pan, tilting it gently to spread evenly. Cook on medium heat until the edges set, add desired fillings (like cheese, vegetables, or ham), fold the omelette in half, and serve warm. \n",
      "\n",
      "gpt-4o\n"
     ]
    }
   ],
   "source": [
    "# Check out the message content\n",
    "print(response.output[0].content[0].text, \"\\n\")\n",
    "\n",
    "print(response.model)"
   ]
  },
  {
   "cell_type": "markdown",
   "id": "75f426f1-0d7e-4177-9893-84842ca4a42f",
   "metadata": {},
   "source": [
    "# Call a reasoning LLM with response API"
   ]
  },
  {
   "cell_type": "code",
   "execution_count": null,
   "id": "c29e2d83-e8ef-4689-9ec7-f2b5de9f08a0",
   "metadata": {},
   "outputs": [],
   "source": [
    "sys_prompt = \"You are a helpful assistant that knows about history\"\n",
    "input_ = \"Tell me how to make a Omelette in 3 sentences\"\n",
    "\n",
    "message_stack = [\n",
    "    {\"role\": \"system\", \"content\": sys_prompt},\n",
    "    {\"role\": \"user\", \"content\": input_},\n",
    "]\n",
    "\n",
    "reasoning_response = openai_client.responses.create(\n",
    "    input=message_stack,\n",
    "    model=\"o4-mini\",\n",
    "    reasoning={\n",
    "        \"effort\": \"low\",\n",
    "        # \"summary\": \"concise\" #[not supported as org] auto, concise, or detailed (currently only supported with o4-mini and o3)\n",
    "    },\n",
    "    max_output_tokens=1000,\n",
    ")"
   ]
  },
  {
   "cell_type": "code",
   "execution_count": 32,
   "id": "bcdd1786-e388-4774-b454-d41ea5fa4415",
   "metadata": {},
   "outputs": [
    {
     "name": "stdout",
     "output_type": "stream",
     "text": [
      "Reasoning : ResponseReasoningItem(id='rs_6824a055fdc08190844272a193e36c2b036e13c0529ff134', summary=[], type='reasoning', status=None)\n",
      "\n"
     ]
    },
    {
     "data": {
      "text/plain": [
       "'1. Beat two or three eggs in a bowl with a pinch of salt and pepper until yolks and whites are fully combined.  \\n2. Heat a nonstick skillet over medium heat, add a pat of butter or a drizzle of oil, then pour in the eggs, swirling to coat the pan evenly.  \\n3. As the edges set, gently lift them with a spatula to let uncooked egg flow underneath, then fold the omelette in half and slide it onto a plate when cooked through but still tender.'"
      ]
     },
     "execution_count": 32,
     "metadata": {},
     "output_type": "execute_result"
    }
   ],
   "source": [
    "# Reasoning\n",
    "\n",
    "print(f\"Reasoning : {response.output[0]}\\n\")\n",
    "# response.output[0].summary\n",
    "# or\n",
    "# response.reasoning.summary\n",
    "\n",
    "# Output\n",
    "response.output_text\n",
    "\n",
    "# or\n",
    "# print(response.output[1].content[0].text)"
   ]
  },
  {
   "cell_type": "code",
   "execution_count": 33,
   "id": "fa4f3edc-5467-4abc-b7d5-035269800d30",
   "metadata": {},
   "outputs": [
    {
     "name": "stdout",
     "output_type": "stream",
     "text": [
      "o4-mini\n"
     ]
    }
   ],
   "source": [
    "print(response.model)"
   ]
  },
  {
   "cell_type": "code",
   "execution_count": 7,
   "id": "5c1dafee-8e52-4c9e-b7a8-3f334116fb49",
   "metadata": {},
   "outputs": [
    {
     "name": "stdout",
     "output_type": "stream",
     "text": [
      "Here’s a self-contained bash script, `transpose.sh`, that takes a single argument of the form\n",
      "\n",
      "  '[1,2],[3,4],[5,6]'\n",
      "\n",
      "and prints its transpose in the same format:\n",
      "\n",
      "  '[1,3,5],[2,4,6]'\n",
      "\n",
      "```bash\n",
      "#!/usr/bin/env bash\n",
      "set -euo pipefail\n",
      "\n",
      "if [[ $# -ne 1 ]]; then\n",
      "  echo \"Usage: $0 '[row1],[row2],...,[rowN]'\" >&2\n",
      "  exit 1\n",
      "fi\n",
      "\n",
      "input=$1\n",
      "\n",
      "# strip the very first '[' and very last ']'\n",
      "matrix=${input#\\[}\n",
      "matrix=${matrix%\\]}\n",
      "\n",
      "# replace every '],[' with a single '|' so we can split rows on '|'\n",
      "rows_str=${matrix//],[/|}\n",
      "IFS='|' read -r -a rows <<< \"$rows_str\"\n",
      "\n",
      "# declare an associative array to hold the elements\n",
      "declare -A m\n",
      "R=${#rows[@]}    # number of rows\n",
      "C=0              # will detect number of columns from first row\n",
      "\n",
      "# parse each row into cols, store in m[\"i,j\"]\n",
      "for i in \"${!rows[@]}\"; do\n",
      "  IFS=',' read -r -a cols <<< \"${rows[i]}\"\n",
      "  # on first row, record column count; on later rows, sanity-check it\n",
      "  if [[ $i -eq 0 ]]; then\n",
      "    C=${#cols[@]}\n",
      "  elif [[ ${#cols[@]} -ne $C ]]; then\n",
      "    echo \"Error: row $((i+1)) has ${#cols[@]} columns, expected $C.\" >&2\n",
      "    exit 1\n",
      "  fi\n",
      "  for j in \"${!cols[@]}\"; do\n",
      "    m[\"$i,$j\"]=${cols[j]}\n",
      "  done\n",
      "done\n",
      "\n",
      "# build the transposed rows: now there will be C rows each of length R\n",
      "out_rows=()\n",
      "for j in $(seq 0 $((C-1))); do\n",
      "  row_elems=()\n",
      "  for i in $(seq 0 $((R-1))); do\n",
      "    row_elems+=(\"${m[\"$i,$j\"]}\")\n",
      "  done\n",
      "  # join this transposed row with commas and wrap in [ ]\n",
      "  out_rows+=(\"[$(IFS=','; echo \"${row_elems[*]}\")]\")\n",
      "done\n",
      "\n",
      "# finally join all the transposed rows with commas and print\n",
      "( IFS=','; echo \"${out_rows[*]}\" )\n",
      "```\n",
      "\n",
      "Save that as `transpose.sh`, make it executable (`chmod +x transpose.sh`), and run it like this:\n",
      "\n",
      "  $ ./transpose.sh '[1,2],[3,4],[5,6]'\n",
      "  [1,3,5],[2,4,6]\n"
     ]
    }
   ],
   "source": [
    "prompt = \"\"\"\n",
    "Write a bash script that takes a matrix represented as a string with\n",
    "format '[1,2],[3,4],[5,6]' and prints the transpose in the same format.\n",
    "\"\"\"\n",
    "\n",
    "response = openai_client.responses.create(\n",
    "    model=\"o4-mini\",\n",
    "    reasoning={\"effort\": \"medium\"},\n",
    "    input=[{\"role\": \"user\", \"content\": prompt}],\n",
    ")\n",
    "\n",
    "print(response.output_text)"
   ]
  },
  {
   "cell_type": "code",
   "execution_count": 14,
   "id": "a645ed49-3404-41e2-b55a-1cad17b54d76",
   "metadata": {},
   "outputs": [
    {
     "name": "stdout",
     "output_type": "stream",
     "text": [
      "1. Beat two or three eggs in a bowl with a pinch of salt and pepper until yolks and whites are fully combined.  \n",
      "2. Heat a nonstick skillet over medium heat, add a pat of butter or a drizzle of oil, then pour in the eggs, swirling to coat the pan evenly.  \n",
      "3. As the edges set, gently lift them with a spatula to let uncooked egg flow underneath, then fold the omelette in half and slide it onto a plate when cooked through but still tender.\n"
     ]
    }
   ],
   "source": [
    "prompt = \"\"\"\n",
    "Tell me how to make a Omelette in 3 sentences\n",
    "\"\"\"\n",
    "\n",
    "response = openai_client.responses.create(\n",
    "    model=\"o4-mini\",\n",
    "    reasoning={\"effort\": \"low\"},\n",
    "    input=[{\"role\": \"user\", \"content\": prompt}],\n",
    "    max_output_tokens=1000,\n",
    ")\n",
    "\n",
    "print(response.output_text)"
   ]
  }
 ],
 "metadata": {
  "kernelspec": {
   "display_name": "Python 3 (ipykernel)",
   "language": "python",
   "name": "python3"
  },
  "language_info": {
   "codemirror_mode": {
    "name": "ipython",
    "version": 3
   },
   "file_extension": ".py",
   "mimetype": "text/x-python",
   "name": "python",
   "nbconvert_exporter": "python",
   "pygments_lexer": "ipython3",
   "version": "3.12.9"
  }
 },
 "nbformat": 4,
 "nbformat_minor": 5
}

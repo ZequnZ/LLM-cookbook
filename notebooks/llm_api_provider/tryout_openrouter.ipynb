{
 "cells": [
  {
   "cell_type": "markdown",
   "id": "07f34c72-97c9-4223-b6b9-322c699512b4",
   "metadata": {},
   "source": [
    "# Try out OpenRouter\n",
    "\n",
    "https://openrouter.ai/docs/quickstart\n",
    "\n",
    "models: https://openrouter.ai/models"
   ]
  },
  {
   "cell_type": "code",
   "execution_count": 3,
   "id": "be08ae8b-7526-4737-a7fc-7e13f1d51d24",
   "metadata": {},
   "outputs": [
    {
     "data": {
      "text/plain": [
       "True"
      ]
     },
     "execution_count": 3,
     "metadata": {},
     "output_type": "execute_result"
    }
   ],
   "source": [
    "%load_ext autoreload\n",
    "%autoreload 2\n",
    "\n",
    "import json\n",
    "import os\n",
    "\n",
    "import requests\n",
    "from dotenv import load_dotenv\n",
    "from openai import OpenAI"
   ]
  },
  {
   "cell_type": "code",
   "execution_count": 4,
   "id": "fd9e1309-a888-47a8-afce-030a1b954696",
   "metadata": {
    "scrolled": true
   },
   "outputs": [
    {
     "name": "stdout",
     "output_type": "stream",
     "text": [
      "{\n",
      "  \"data\": {\n",
      "    \"label\": \"sk-or-v1-c22...2b2\",\n",
      "    \"limit\": null,\n",
      "    \"usage\": 0,\n",
      "    \"is_provisioning_key\": false,\n",
      "    \"limit_remaining\": null,\n",
      "    \"is_free_tier\": true,\n",
      "    \"rate_limit\": {\n",
      "      \"requests\": 10,\n",
      "      \"interval\": \"10s\"\n",
      "    }\n",
      "  }\n",
      "}\n"
     ]
    }
   ],
   "source": [
    "# Load environment variables\n",
    "load_dotenv(override=True)\n",
    "\n",
    "OPENROUTER_API_KEY = os.getenv(\"OPENROUTER_API_KEY\")\n",
    "\n",
    "# Check out API KEY LIMIT\n",
    "response = requests.get(\n",
    "    url=\"https://openrouter.ai/api/v1/auth/key\",\n",
    "    headers={\"Authorization\": f\"Bearer {OPENROUTER_API_KEY}\"},\n",
    ")\n",
    "\n",
    "print(json.dumps(response.json(), indent=2))"
   ]
  },
  {
   "cell_type": "markdown",
   "id": "37d41d0e-ca52-4e69-942e-1db9cefca7a9",
   "metadata": {},
   "source": [
    "## Reason token: \n",
    "https://openrouter.ai/docs/use-cases/reasoning-tokens"
   ]
  },
  {
   "cell_type": "code",
   "execution_count": null,
   "id": "18d6905a-d225-4538-832b-e6e9df6ecbe7",
   "metadata": {},
   "outputs": [],
   "source": [
    "# Get client\n",
    "client = OpenAI(\n",
    "    base_url=\"https://openrouter.ai/api/v1\",\n",
    "    api_key=OPENROUTER_API_KEY,\n",
    ")\n",
    "\n",
    "completion = client.chat.completions.create(\n",
    "    model=\"deepseek/deepseek-r1:free\",\n",
    "    messages=[{\"role\": \"user\", \"content\": \"Which is bigger: 9.11 or 9.9?\"}],\n",
    ")"
   ]
  },
  {
   "cell_type": "code",
   "execution_count": 14,
   "id": "b4906589-c781-49c2-9b7b-5150c71c1157",
   "metadata": {},
   "outputs": [
    {
     "name": "stdout",
     "output_type": "stream",
     "text": [
      "To determine which number is larger between **9.11** and **9.9**, follow these steps:\n",
      "\n",
      "1. **Equalize Decimal Places**:  \n",
      "   Write both numbers with the same number of decimal places:  \n",
      "   - \\(9.11\\) (already to the hundredth place)  \n",
      "   - \\(9.9 \\rightarrow 9.90\\) (append a zero to the hundredth place).\n",
      "\n",
      "2. **Compare Digit-by-Digit**:  \n",
      "   - **Whole number part**: Both have \\(9\\) (equal).  \n",
      "   - **Tenths place**: \\(1\\) (in \\(9.11\\)) vs. \\(9\\) (in \\(9.90\\)).  \n",
      "     Since \\(1 < 9\\), \\(9.90\\) is larger at this stage.  \n",
      "\n",
      "3. **Verification**:  \n",
      "   - Convert to fractions:  \n",
      "     - \\(9.11 = 9 + \\frac{11}{100}\\)  \n",
      "     - \\(9.9 = 9 + \\frac{90}{100}\\)  \n",
      "     Clearly, \\(\\frac{90}{100} > \\frac{11}{100}\\).  \n",
      "   - Subtraction: \\(9.90 - 9.11 = 0.79\\) (positive result confirms \\(9.90 > 9.11\\)).\n",
      "\n",
      "**Conclusion**:  \n",
      "**9.9** is larger than **9.11**.  \n",
      "\n",
      "\\(\\boxed{9.9}\\)\n"
     ]
    }
   ],
   "source": [
    "# message content\n",
    "print(completion.choices[0].message.content)"
   ]
  },
  {
   "cell_type": "code",
   "execution_count": 15,
   "id": "9e70e1dc-feda-499d-b1da-b72b3ded112f",
   "metadata": {},
   "outputs": [
    {
     "data": {
      "text/plain": [
       "\"Okay, so I need to figure out whether 9.11 is bigger than 9.9 or if 9.9 is bigger than 9.11. Hmm, let me think. Both numbers have a 9 in the ones place, so they're both between 9 and 10. The difference must be in the decimal parts. \\n\\nFirst, let me write them out with the same number of decimal places to make it easier to compare. 9.11 is already to the hundredth place, but 9.9 is to the tenths place. If I add a zero to 9.9, it becomes 9.90. Now both numbers are 9.11 and 9.90. \\n\\nComparing the tenths place first: 9.11 has a 1 in the tenths place, and 9.90 has a 9. Since 1 is less than 9, does that mean 9.11 is less than 9.90? Wait, but maybe I should check the whole number part first. The whole numbers are both 9, so they are equal there. Then moving to the tenths place, 1 vs. 9. Since 1 is less than 9, the tenths place of 9.11 is smaller. Therefore, 9.11 is less than 9.9. \\n\\nBut let me make sure I'm not making a mistake here. Sometimes when decimals have different lengths, it can be confusing. Let me convert them to fractions to check. \\n\\n9.11 is the same as 9 + 11/100, which is 9 11/100. 9.9 is 9 + 9/10, which is 9 9/10. To compare 11/100 and 9/10, I can convert 9/10 to hundredths. Since 9/10 is equal to 90/100. Now, 11/100 vs. 90/100. Clearly, 90/100 is larger. So 9.9 is larger than 9.11. \\n\\nAlternatively, if I subtract them: 9.90 - 9.11 = 0.79, which is positive, so 9.90 is larger. \\n\\nWait, but maybe another way. If I think of money, 9.11 dollars is $9 and 11 cents, and 9.9 dollars is $9 and 90 cents. So 90 cents is more than 11 cents, so $9.90 is more than $9.11. That makes sense. \\n\\nI think I'm confident now that 9.9 is bigger than 9.11. The key is that even though 9.11 has more decimal places, the tenths place in 9.9 is much higher, which makes it larger overall.\\n\""
      ]
     },
     "execution_count": 15,
     "metadata": {},
     "output_type": "execute_result"
    }
   ],
   "source": [
    "# Reasoning part\n",
    "completion.choices[0].message.reasoning"
   ]
  },
  {
   "cell_type": "code",
   "execution_count": 17,
   "id": "84e2402c-0567-4185-82a1-3c1d41828794",
   "metadata": {},
   "outputs": [
    {
     "data": {
      "text/plain": [
       "ChatCompletion(id='gen-1747322600-gcxkhhhdmhOp27jcc4Bk', choices=[Choice(finish_reason='stop', index=0, logprobs=None, message=ChatCompletionMessage(content='To determine which number is larger between **9.11** and **9.9**, follow these steps:\\n\\n1. **Equalize Decimal Places**:  \\n   Write both numbers with the same number of decimal places:  \\n   - \\\\(9.11\\\\) (already to the hundredth place)  \\n   - \\\\(9.9 \\\\rightarrow 9.90\\\\) (append a zero to the hundredth place).\\n\\n2. **Compare Digit-by-Digit**:  \\n   - **Whole number part**: Both have \\\\(9\\\\) (equal).  \\n   - **Tenths place**: \\\\(1\\\\) (in \\\\(9.11\\\\)) vs. \\\\(9\\\\) (in \\\\(9.90\\\\)).  \\n     Since \\\\(1 < 9\\\\), \\\\(9.90\\\\) is larger at this stage.  \\n\\n3. **Verification**:  \\n   - Convert to fractions:  \\n     - \\\\(9.11 = 9 + \\\\frac{11}{100}\\\\)  \\n     - \\\\(9.9 = 9 + \\\\frac{90}{100}\\\\)  \\n     Clearly, \\\\(\\\\frac{90}{100} > \\\\frac{11}{100}\\\\).  \\n   - Subtraction: \\\\(9.90 - 9.11 = 0.79\\\\) (positive result confirms \\\\(9.90 > 9.11\\\\)).\\n\\n**Conclusion**:  \\n**9.9** is larger than **9.11**.  \\n\\n\\\\(\\\\boxed{9.9}\\\\)', refusal=None, role='assistant', annotations=None, audio=None, function_call=None, tool_calls=None, reasoning=\"Okay, so I need to figure out whether 9.11 is bigger than 9.9 or if 9.9 is bigger than 9.11. Hmm, let me think. Both numbers have a 9 in the ones place, so they're both between 9 and 10. The difference must be in the decimal parts. \\n\\nFirst, let me write them out with the same number of decimal places to make it easier to compare. 9.11 is already to the hundredth place, but 9.9 is to the tenths place. If I add a zero to 9.9, it becomes 9.90. Now both numbers are 9.11 and 9.90. \\n\\nComparing the tenths place first: 9.11 has a 1 in the tenths place, and 9.90 has a 9. Since 1 is less than 9, does that mean 9.11 is less than 9.90? Wait, but maybe I should check the whole number part first. The whole numbers are both 9, so they are equal there. Then moving to the tenths place, 1 vs. 9. Since 1 is less than 9, the tenths place of 9.11 is smaller. Therefore, 9.11 is less than 9.9. \\n\\nBut let me make sure I'm not making a mistake here. Sometimes when decimals have different lengths, it can be confusing. Let me convert them to fractions to check. \\n\\n9.11 is the same as 9 + 11/100, which is 9 11/100. 9.9 is 9 + 9/10, which is 9 9/10. To compare 11/100 and 9/10, I can convert 9/10 to hundredths. Since 9/10 is equal to 90/100. Now, 11/100 vs. 90/100. Clearly, 90/100 is larger. So 9.9 is larger than 9.11. \\n\\nAlternatively, if I subtract them: 9.90 - 9.11 = 0.79, which is positive, so 9.90 is larger. \\n\\nWait, but maybe another way. If I think of money, 9.11 dollars is $9 and 11 cents, and 9.9 dollars is $9 and 90 cents. So 90 cents is more than 11 cents, so $9.90 is more than $9.11. That makes sense. \\n\\nI think I'm confident now that 9.9 is bigger than 9.11. The key is that even though 9.11 has more decimal places, the tenths place in 9.9 is much higher, which makes it larger overall.\\n\"), native_finish_reason='stop')], created=1747322600, model='deepseek/deepseek-r1:free', object='chat.completion', service_tier=None, system_fingerprint=None, usage=CompletionUsage(completion_tokens=887, prompt_tokens=20, total_tokens=907, completion_tokens_details=None, prompt_tokens_details=None), provider='Chutes')"
      ]
     },
     "execution_count": 17,
     "metadata": {},
     "output_type": "execute_result"
    }
   ],
   "source": [
    "completion"
   ]
  },
  {
   "cell_type": "code",
   "execution_count": 7,
   "id": "f953c130-ffbd-4221-a2ad-732c6b38497f",
   "metadata": {},
   "outputs": [
    {
     "name": "stdout",
     "output_type": "stream",
     "text": [
      "**Quantum Computing Explained Simply**\n",
      "\n",
      "Imagine you're in a library. A classical computer is like reading one book at a time, page by page. A **quantum computer**, however, can read all the books at once. Here's how it works:\n",
      "\n",
      "1. **Qubits Instead of Bits**:  \n",
      "   Classical computers use **bits** (0s and 1s). Quantum computers use **qubits**, which can be 0, 1, or both at the same time thanks to **superposition**—like a spinning coin that’s both heads *and* tails until it lands.\n",
      "\n",
      "2. **Entanglement**:  \n",
      "   Qubits can be **entangled**, meaning the state of one instantly influences another, no matter the distance. Think of it as a pair of magical dice: if one shows a 6, the other *immediately* shows a 6 too. This lets qubits work together in sync.\n",
      "\n",
      "3. **Massive Parallelism**:  \n",
      "   Because qubits can explore multiple states simultaneously, a quantum computer can solve complex problems by checking many possibilities at once. For example, finding a needle in a haystack isn’t checking each straw—it’s tipping the haystack so the needle drops out.\n",
      "\n",
      "4. **Measurement Matters**:  \n",
      "   When you “look” at a qubit, it collapses into a 0 or 1. Quantum algorithms (like **Shor’s** for encryption or **Grover’s** for searches) ensure the right answer is the most probable outcome when measured.\n",
      "\n",
      "5. **Not for Everything**:  \n",
      "   Quantum computers excel at specific tasks: cracking codes, simulating molecules for drug discovery, or optimizing routes. They’re not faster for everyday tasks like email or video streaming.\n",
      "\n",
      "6. **Challenges**:  \n",
      "   Qubits are fragile—heat or noise can disrupt them (**decoherence**). Current quantum computers (like IBM’s or Google’s) have ~100–400 qubits and require extreme cooling. Large-scale, error-resistant versions are still years away.\n",
      "\n",
      "**In Short**: Quantum computers harness quantum physics to solve certain problems exponentially faster than classical ones, but they’re specialized tools, not replacements for your laptop. The future holds promise for breakthroughs in science, medicine, and tech! 🔮\n"
     ]
    }
   ],
   "source": [
    "import json\n",
    "\n",
    "import requests\n",
    "\n",
    "url = \"https://openrouter.ai/api/v1/chat/completions\"\n",
    "headers = {\n",
    "    \"Authorization\": f\"Bearer {OPENROUTER_API_KEY}\",\n",
    "    \"Content-Type\": \"application/json\",\n",
    "}\n",
    "payload = {\n",
    "    \"model\": \"deepseek/deepseek-r1\",\n",
    "    \"messages\": [\n",
    "        {\"role\": \"user\", \"content\": \"Explain quantum computing in simple terms.\"}\n",
    "    ],\n",
    "    \"reasoning\": {\n",
    "        \"effort\": \"high\",\n",
    "        \"exclude\": False,\n",
    "    },\n",
    "}\n",
    "\n",
    "response = requests.post(url, headers=headers, data=json.dumps(payload))\n",
    "# No reasoning field in the response\n",
    "print(response.json()[\"choices\"][0][\"message\"][\"content\"])"
   ]
  },
  {
   "cell_type": "code",
   "execution_count": 10,
   "id": "5ef95eda-fe12-43a8-a829-0f14234f26c0",
   "metadata": {},
   "outputs": [
    {
     "data": {
      "text/plain": [
       "'Okay, so I need to explain quantum computing in simple terms. Let me start by recalling what I know. Quantum computing is different from classical computing, which uses bits as 0s and 1s. I remember something about qubits being the quantum version. Qubits can be in a superposition, right? That means they can be both 0 and 1 at the same time. But wait, how does that work exactly? Maybe like a spinning coin that\\'s both heads and tails until it lands.\\n\\nThen there\\'s entanglement, which Einstein called \"spooky action at a distance.\" If two qubits are entangled, the state of one instantly affects the other, no matter how far apart they are. That must be useful for processing information in a connected way.\\n\\nQuantum computers use these properties to perform calculations. Since qubits can be in multiple states at once, a quantum computer can process a lot of possibilities simultaneously. So instead of going through each possibility one by one like a classical computer, it can handle many at the same time. That makes them faster for certain problems, like factoring large numbers or simulating molecules.\\n\\nBut there\\'s also something about measurement. When you measure a qubit, it collapses to a definite state, either 0 or 1. So you have to design algorithms in a way that the correct answer is more probable when you measure. Algorithms like Shor\\'s algorithm for factoring or Grover\\'s for searching databases faster.\\n\\nWait, but why can\\'t we just use quantum computers for everything? Probably because they\\'re error-prone. Qubits are sensitive to their environment, leading to decoherence. Maintaining their state long enough to perform computations is a big challenge. Also, not all problems benefit from quantum speedup. They\\'re good for specific tasks like optimization, cryptography, simulations, but not for everyday computing.\\n\\nLet me think of an analogy. Classical computers are like flipping through a book page by page, while quantum computers can look at all pages at once. But when you look (measure), you only see one page. So the trick is to set it up so the right page is the one you\\'re most likely to see.\\n\\nI should also mention that quantum computers are still in early stages. Companies like IBM and Google are building them with a few hundred qubits, but practical, large-scale ones might be years away.\\n\\nPutting this all together, I need to explain superposition, entanglement, qubits, and maybe touch on applications and current state, all in simple terms without jargon. Avoid getting too technical. Use everyday analogies. Make sure the explanation flows logically from the basics to implications and current status.\\n'"
      ]
     },
     "execution_count": 10,
     "metadata": {},
     "output_type": "execute_result"
    }
   ],
   "source": [
    "response.json()[\"choices\"][0][\"message\"][\"reasoning\"]"
   ]
  },
  {
   "cell_type": "code",
   "execution_count": 11,
   "id": "7511fa56-94cd-4d85-bcb4-e3fd89382a35",
   "metadata": {},
   "outputs": [
    {
     "data": {
      "text/plain": [
       "{'id': 'gen-1747322296-VG9l4AMsiHyXnt31j0hY',\n",
       " 'provider': 'Novita',\n",
       " 'model': 'deepseek/deepseek-r1',\n",
       " 'object': 'chat.completion',\n",
       " 'created': 1747322296,\n",
       " 'choices': [{'logprobs': None,\n",
       "   'finish_reason': 'stop',\n",
       "   'native_finish_reason': 'stop',\n",
       "   'index': 0,\n",
       "   'message': {'role': 'assistant',\n",
       "    'content': \"**Quantum Computing Explained Simply**\\n\\nImagine you're in a library. A classical computer is like reading one book at a time, page by page. A **quantum computer**, however, can read all the books at once. Here's how it works:\\n\\n1. **Qubits Instead of Bits**:  \\n   Classical computers use **bits** (0s and 1s). Quantum computers use **qubits**, which can be 0, 1, or both at the same time thanks to **superposition**—like a spinning coin that’s both heads *and* tails until it lands.\\n\\n2. **Entanglement**:  \\n   Qubits can be **entangled**, meaning the state of one instantly influences another, no matter the distance. Think of it as a pair of magical dice: if one shows a 6, the other *immediately* shows a 6 too. This lets qubits work together in sync.\\n\\n3. **Massive Parallelism**:  \\n   Because qubits can explore multiple states simultaneously, a quantum computer can solve complex problems by checking many possibilities at once. For example, finding a needle in a haystack isn’t checking each straw—it’s tipping the haystack so the needle drops out.\\n\\n4. **Measurement Matters**:  \\n   When you “look” at a qubit, it collapses into a 0 or 1. Quantum algorithms (like **Shor’s** for encryption or **Grover’s** for searches) ensure the right answer is the most probable outcome when measured.\\n\\n5. **Not for Everything**:  \\n   Quantum computers excel at specific tasks: cracking codes, simulating molecules for drug discovery, or optimizing routes. They’re not faster for everyday tasks like email or video streaming.\\n\\n6. **Challenges**:  \\n   Qubits are fragile—heat or noise can disrupt them (**decoherence**). Current quantum computers (like IBM’s or Google’s) have ~100–400 qubits and require extreme cooling. Large-scale, error-resistant versions are still years away.\\n\\n**In Short**: Quantum computers harness quantum physics to solve certain problems exponentially faster than classical ones, but they’re specialized tools, not replacements for your laptop. The future holds promise for breakthroughs in science, medicine, and tech! 🔮\",\n",
       "    'refusal': None,\n",
       "    'reasoning': 'Okay, so I need to explain quantum computing in simple terms. Let me start by recalling what I know. Quantum computing is different from classical computing, which uses bits as 0s and 1s. I remember something about qubits being the quantum version. Qubits can be in a superposition, right? That means they can be both 0 and 1 at the same time. But wait, how does that work exactly? Maybe like a spinning coin that\\'s both heads and tails until it lands.\\n\\nThen there\\'s entanglement, which Einstein called \"spooky action at a distance.\" If two qubits are entangled, the state of one instantly affects the other, no matter how far apart they are. That must be useful for processing information in a connected way.\\n\\nQuantum computers use these properties to perform calculations. Since qubits can be in multiple states at once, a quantum computer can process a lot of possibilities simultaneously. So instead of going through each possibility one by one like a classical computer, it can handle many at the same time. That makes them faster for certain problems, like factoring large numbers or simulating molecules.\\n\\nBut there\\'s also something about measurement. When you measure a qubit, it collapses to a definite state, either 0 or 1. So you have to design algorithms in a way that the correct answer is more probable when you measure. Algorithms like Shor\\'s algorithm for factoring or Grover\\'s for searching databases faster.\\n\\nWait, but why can\\'t we just use quantum computers for everything? Probably because they\\'re error-prone. Qubits are sensitive to their environment, leading to decoherence. Maintaining their state long enough to perform computations is a big challenge. Also, not all problems benefit from quantum speedup. They\\'re good for specific tasks like optimization, cryptography, simulations, but not for everyday computing.\\n\\nLet me think of an analogy. Classical computers are like flipping through a book page by page, while quantum computers can look at all pages at once. But when you look (measure), you only see one page. So the trick is to set it up so the right page is the one you\\'re most likely to see.\\n\\nI should also mention that quantum computers are still in early stages. Companies like IBM and Google are building them with a few hundred qubits, but practical, large-scale ones might be years away.\\n\\nPutting this all together, I need to explain superposition, entanglement, qubits, and maybe touch on applications and current state, all in simple terms without jargon. Avoid getting too technical. Use everyday analogies. Make sure the explanation flows logically from the basics to implications and current status.\\n'}}],\n",
       " 'system_fingerprint': '',\n",
       " 'usage': {'prompt_tokens': 12,\n",
       "  'completion_tokens': 1006,\n",
       "  'total_tokens': 1018,\n",
       "  'prompt_tokens_details': {'cached_tokens': 0},\n",
       "  'completion_tokens_details': {'reasoning_tokens': 535}}}"
      ]
     },
     "execution_count": 11,
     "metadata": {},
     "output_type": "execute_result"
    }
   ],
   "source": [
    "response.json()"
   ]
  },
  {
   "cell_type": "code",
   "execution_count": 12,
   "id": "41276be6-36a5-496c-bf7d-a9cdc050dcb8",
   "metadata": {},
   "outputs": [],
   "source": [
    "import json\n",
    "\n",
    "import requests\n",
    "\n",
    "url = \"https://openrouter.ai/api/v1/chat/completions\"\n",
    "headers = {\n",
    "    \"Authorization\": f\"Bearer {OPENROUTER_API_KEY}\",\n",
    "    \"Content-Type\": \"application/json\",\n",
    "}\n",
    "payload = {\n",
    "    \"model\": \"deepseek/deepseek-r1:free\",\n",
    "    \"messages\": [\n",
    "        {\"role\": \"user\", \"content\": \"Explain quantum computing in simple terms.\"}\n",
    "    ],\n",
    "    \"reasoning\": {\n",
    "        \"effort\": \"high\",\n",
    "        \"exclude\": False,\n",
    "    },\n",
    "}\n",
    "\n",
    "response2 = requests.post(url, headers=headers, data=json.dumps(payload))\n",
    "# No reasoning field in the response\n",
    "# print(response.json()['choices'][0]['message']['content'])"
   ]
  },
  {
   "cell_type": "code",
   "execution_count": 13,
   "id": "58454656-29f8-4600-b25b-c465f4fd0c38",
   "metadata": {},
   "outputs": [
    {
     "data": {
      "text/plain": [
       "{'id': 'gen-1747322398-TqZNTFcVoGnj5SxHXA9D',\n",
       " 'provider': 'Chutes',\n",
       " 'model': 'deepseek/deepseek-r1:free',\n",
       " 'object': 'chat.completion',\n",
       " 'created': 1747322399,\n",
       " 'choices': [{'logprobs': None,\n",
       "   'finish_reason': 'stop',\n",
       "   'native_finish_reason': 'stop',\n",
       "   'index': 0,\n",
       "   'message': {'role': 'assistant',\n",
       "    'content': '**Quantum Computing Simplified**\\n\\nImagine you\\'re in a library where each book is a possible answer to a problem. A classical computer reads each book one by one. A quantum computer, however, can scan all books at once. Here\\'s how:\\n\\n1. **Qubits Over Bits**:  \\n   Classical computers use bits (0 or 1). Quantum computers use **qubits**, which can be 0, 1, or both simultaneously thanks to **superposition** (like a spinning coin that’s both heads *and* tails until it lands).\\n\\n2. **Entanglement**:  \\n   Qubits can be linked (**entangled**), so the state of one instantly influences another, no matter the distance. Think of two magic dice: if one rolls a 6, the other *always* shows 6 too, instantly.\\n\\n3. **Quantum Speed**:  \\n   By leveraging superposition and entanglement, quantum computers explore many solutions at once. For example, they could crack complex codes or optimize routes (like delivery trucks) far faster than classical computers, which check each option individually.\\n\\n4. **Catch**:  \\n   They’re not just \"faster computers.\" They excel at specific tasks (e.g., cryptography, drug discovery) but won’t replace everyday laptops. Also, maintaining fragile qubits is tricky—they’re still experimental and error-prone.\\n\\nIn short: Quantum computers harness quantum physics to solve certain complex problems exponentially faster, but they’re a specialized tool, not a universal replacement. 🌌🔍',\n",
       "    'refusal': None,\n",
       "    'reasoning': 'Okay, so I need to explain quantum computing in simple terms. Let me start by recalling what I know. Quantum computing uses quantum bits, or qubits, right? Unlike regular bits that are either 0 or 1, qubits can be both at the same time because of superposition. That\\'s a key point. But how do I explain superposition simply? Maybe like a spinning coin that\\'s both heads and tails until it lands.\\n\\nThen there\\'s entanglement. I remember that entangled qubits are connected, so the state of one instantly affects the other, no matter the distance. Einstein called it \"spooky action at a distance.\" But how to make that relatable? Maybe like two coins that, when flipped, always land the same way even if they\\'re far apart. But I should check if that\\'s an accurate analogy.\\n\\nAlso, quantum computers can solve certain problems faster than classical ones. Examples I\\'ve heard include factoring large numbers (Shor\\'s algorithm) and searching databases (Grover\\'s algorithm). But why are they faster? Because qubits can process multiple possibilities simultaneously. So, for problems with many variables, quantum computers can explore all paths at once, whereas classical ones have to check each one by one.\\n\\nWait, but how do they actually do computations? With quantum gates, which manipulate qubits. But maybe that\\'s too technical. The user wants a simple explanation. So focus on the main concepts: superposition, entanglement, and how they enable solving complex problems more efficiently.\\n\\nPotential misunderstandings to avoid: Quantum computers aren\\'t just faster versions of classical computers; they\\'re better for specific tasks. They don\\'t replace classical computers but complement them. Also, quantum states are fragile, so maintaining qubits (quantum coherence) is a challenge. But maybe that\\'s more detail than needed for a simple explanation.\\n\\nSo structure the answer as: Start with the basics of qubits vs. bits, explain superposition and entanglement with simple analogies, mention the potential for solving certain problems much faster, and note that they\\'re still in development. Avoid jargon, keep it conversational.\\n\\nWait, but the user asked for quantum computing in simple terms. Let me make sure I\\'m not missing any key points. Maybe mention that quantum computers use quantum mechanics principles, which govern particles at the atomic and subatomic levels. So, they harness phenomena like superposition and entanglement to perform computations.\\n\\nAlso, maybe use a real-world example. Like, for a maze, a classical computer tries each path one by one, while a quantum computer can explore all paths at the same time. But is that accurate? I think it\\'s a common analogy, but superposition allows for multiple states, so in a sense, yes, but the actual process is more about probability amplitudes and interference. Hmm, but for simplicity, that analogy might work.\\n\\nAnother point: when you measure a qubit, it collapses to 0 or 1. So the result is probabilistic. So quantum algorithms have to cleverly use interference to increase the probability of the correct answer. That\\'s why they\\'re good for certain types of problems where you can structure the algorithm to amplify the right solution.\\n\\nBut again, how to simplify that. Maybe say that quantum computers use these quantum effects to test many solutions at once and then pick the best one. But that\\'s a bit hand-wavy. Maybe better to stick with the basics.\\n\\nSo putting it all together: Start with qubits, superposition, entanglement, how they allow processing more information, examples of problems they can solve faster, and current state of development. Avoid technical terms where possible, use simple analogies, and keep it concise.\\n'}}],\n",
       " 'usage': {'prompt_tokens': 13,\n",
       "  'completion_tokens': 1047,\n",
       "  'total_tokens': 1060}}"
      ]
     },
     "execution_count": 13,
     "metadata": {},
     "output_type": "execute_result"
    }
   ],
   "source": [
    "response2.json()"
   ]
  },
  {
   "cell_type": "code",
   "execution_count": null,
   "id": "f03a6c52-b462-48bf-b196-2dde7cdfaae3",
   "metadata": {},
   "outputs": [],
   "source": []
  }
 ],
 "metadata": {
  "kernelspec": {
   "display_name": "Python 3 (ipykernel)",
   "language": "python",
   "name": "python3"
  },
  "language_info": {
   "codemirror_mode": {
    "name": "ipython",
    "version": 3
   },
   "file_extension": ".py",
   "mimetype": "text/x-python",
   "name": "python",
   "nbconvert_exporter": "python",
   "pygments_lexer": "ipython3",
   "version": "3.12.9"
  }
 },
 "nbformat": 4,
 "nbformat_minor": 5
}
